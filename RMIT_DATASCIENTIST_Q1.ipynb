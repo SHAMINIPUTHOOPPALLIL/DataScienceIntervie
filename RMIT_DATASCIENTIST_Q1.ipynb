{
 "cells": [
  {
   "cell_type": "code",
   "execution_count": 33,
   "metadata": {},
   "outputs": [],
   "source": [
    "#Import the library\n",
    "import pandas as pd\n",
    "import numpy as np\n",
    "import seaborn as sns\n",
    "import matplotlib.pyplot as plt"
   ]
  },
  {
   "cell_type": "code",
   "execution_count": 34,
   "metadata": {},
   "outputs": [
    {
     "data": {
      "text/html": [
       "<div>\n",
       "<style scoped>\n",
       "    .dataframe tbody tr th:only-of-type {\n",
       "        vertical-align: middle;\n",
       "    }\n",
       "\n",
       "    .dataframe tbody tr th {\n",
       "        vertical-align: top;\n",
       "    }\n",
       "\n",
       "    .dataframe thead th {\n",
       "        text-align: right;\n",
       "    }\n",
       "</style>\n",
       "<table border=\"1\" class=\"dataframe\">\n",
       "  <thead>\n",
       "    <tr style=\"text-align: right;\">\n",
       "      <th></th>\n",
       "      <th>Student.ID</th>\n",
       "      <th>Teacher.ID</th>\n",
       "      <th>College.Name</th>\n",
       "      <th>School.Name</th>\n",
       "      <th>Student.Message.Time</th>\n",
       "      <th>Teacher.Response.Time</th>\n",
       "    </tr>\n",
       "  </thead>\n",
       "  <tbody>\n",
       "    <tr>\n",
       "      <td>0</td>\n",
       "      <td>*655EE4254CD6751292CEB436540F99EEDD7CF3C3</td>\n",
       "      <td>*1C06EF8D2A0EA85EE88F9A2CD2185BF0A0E85A9E</td>\n",
       "      <td>NaN</td>\n",
       "      <td>NaN</td>\n",
       "      <td>2018-12-26 13:42:58</td>\n",
       "      <td>2019-01-02 08:06:11</td>\n",
       "    </tr>\n",
       "    <tr>\n",
       "      <td>1</td>\n",
       "      <td>*A852E7F5D89AA564AF4DA87FE95D9947A3967CEC</td>\n",
       "      <td>*1267BF7A2516009C89642925A67CCA0EE89777A0</td>\n",
       "      <td>C-BUS</td>\n",
       "      <td>Business IT &amp; Logistics</td>\n",
       "      <td>2019-01-01 10:05:35</td>\n",
       "      <td>2019-01-01 11:07:08</td>\n",
       "    </tr>\n",
       "    <tr>\n",
       "      <td>2</td>\n",
       "      <td>*D02DA5003C7D760F169B58CDF9B94956C6317FCE</td>\n",
       "      <td>*1267BF7A2516009C89642925A67CCA0EE89777A0</td>\n",
       "      <td>C-BUS</td>\n",
       "      <td>Business IT &amp; Logistics</td>\n",
       "      <td>2019-01-01 10:07:16</td>\n",
       "      <td>2019-01-01 11:10:31</td>\n",
       "    </tr>\n",
       "    <tr>\n",
       "      <td>3</td>\n",
       "      <td>*A4A1C43AC047FD6DE7833944F43ABDF9C9D2AAC2</td>\n",
       "      <td>*1267BF7A2516009C89642925A67CCA0EE89777A0</td>\n",
       "      <td>C-BUS</td>\n",
       "      <td>Business IT &amp; Logistics</td>\n",
       "      <td>2019-01-01 23:43:32</td>\n",
       "      <td>2019-01-02 00:48:09</td>\n",
       "    </tr>\n",
       "    <tr>\n",
       "      <td>4</td>\n",
       "      <td>*E7050ECAA958D2CD2763EE483E16FD9140D49E97</td>\n",
       "      <td>*BD13E5C24441890B281DB9F75A747D9673210ACD</td>\n",
       "      <td>C-BUS</td>\n",
       "      <td>Management</td>\n",
       "      <td>2019-01-02 03:41:35</td>\n",
       "      <td>2019-01-03 01:16:52</td>\n",
       "    </tr>\n",
       "  </tbody>\n",
       "</table>\n",
       "</div>"
      ],
      "text/plain": [
       "                                  Student.ID  \\\n",
       "0  *655EE4254CD6751292CEB436540F99EEDD7CF3C3   \n",
       "1  *A852E7F5D89AA564AF4DA87FE95D9947A3967CEC   \n",
       "2  *D02DA5003C7D760F169B58CDF9B94956C6317FCE   \n",
       "3  *A4A1C43AC047FD6DE7833944F43ABDF9C9D2AAC2   \n",
       "4  *E7050ECAA958D2CD2763EE483E16FD9140D49E97   \n",
       "\n",
       "                                  Teacher.ID College.Name  \\\n",
       "0  *1C06EF8D2A0EA85EE88F9A2CD2185BF0A0E85A9E          NaN   \n",
       "1  *1267BF7A2516009C89642925A67CCA0EE89777A0        C-BUS   \n",
       "2  *1267BF7A2516009C89642925A67CCA0EE89777A0        C-BUS   \n",
       "3  *1267BF7A2516009C89642925A67CCA0EE89777A0        C-BUS   \n",
       "4  *BD13E5C24441890B281DB9F75A747D9673210ACD        C-BUS   \n",
       "\n",
       "               School.Name Student.Message.Time Teacher.Response.Time  \n",
       "0                      NaN  2018-12-26 13:42:58   2019-01-02 08:06:11  \n",
       "1  Business IT & Logistics  2019-01-01 10:05:35   2019-01-01 11:07:08  \n",
       "2  Business IT & Logistics  2019-01-01 10:07:16   2019-01-01 11:10:31  \n",
       "3  Business IT & Logistics  2019-01-01 23:43:32   2019-01-02 00:48:09  \n",
       "4               Management  2019-01-02 03:41:35   2019-01-03 01:16:52  "
      ]
     },
     "execution_count": 34,
     "metadata": {},
     "output_type": "execute_result"
    }
   ],
   "source": [
    "\n",
    "#Read the file\n",
    "xlsx = pd.ExcelFile('Dataset.xlsx')\n",
    "\n",
    "#read the data from local directory\n",
    "data = pd.read_excel(xlsx, 'Dataset')\n",
    "Originaldataset=data\n",
    "\n",
    "#view data sample\n",
    "data.head()"
   ]
  },
  {
   "cell_type": "code",
   "execution_count": 35,
   "metadata": {},
   "outputs": [
    {
     "data": {
      "text/plain": [
       "(66009, 6)"
      ]
     },
     "execution_count": 35,
     "metadata": {},
     "output_type": "execute_result"
    }
   ],
   "source": [
    "#check the dimension\n",
    "data.shape"
   ]
  },
  {
   "cell_type": "code",
   "execution_count": 36,
   "metadata": {},
   "outputs": [
    {
     "data": {
      "text/plain": [
       "Student.ID                       object\n",
       "Teacher.ID                       object\n",
       "College.Name                     object\n",
       "School.Name                      object\n",
       "Student.Message.Time     datetime64[ns]\n",
       "Teacher.Response.Time    datetime64[ns]\n",
       "dtype: object"
      ]
     },
     "execution_count": 36,
     "metadata": {},
     "output_type": "execute_result"
    }
   ],
   "source": [
    "#check the datatypes\n",
    "data.dtypes"
   ]
  },
  {
   "cell_type": "code",
   "execution_count": 37,
   "metadata": {},
   "outputs": [
    {
     "data": {
      "text/html": [
       "<div>\n",
       "<style scoped>\n",
       "    .dataframe tbody tr th:only-of-type {\n",
       "        vertical-align: middle;\n",
       "    }\n",
       "\n",
       "    .dataframe tbody tr th {\n",
       "        vertical-align: top;\n",
       "    }\n",
       "\n",
       "    .dataframe thead th {\n",
       "        text-align: right;\n",
       "    }\n",
       "</style>\n",
       "<table border=\"1\" class=\"dataframe\">\n",
       "  <thead>\n",
       "    <tr style=\"text-align: right;\">\n",
       "      <th></th>\n",
       "      <th>Student.ID</th>\n",
       "      <th>Teacher.ID</th>\n",
       "      <th>College.Name</th>\n",
       "      <th>School.Name</th>\n",
       "      <th>Timeliness</th>\n",
       "    </tr>\n",
       "  </thead>\n",
       "  <tbody>\n",
       "    <tr>\n",
       "      <td>0</td>\n",
       "      <td>*655EE4254CD6751292CEB436540F99EEDD7CF3C3</td>\n",
       "      <td>*1C06EF8D2A0EA85EE88F9A2CD2185BF0A0E85A9E</td>\n",
       "      <td>NaN</td>\n",
       "      <td>NaN</td>\n",
       "      <td>6 days 18:23:13</td>\n",
       "    </tr>\n",
       "    <tr>\n",
       "      <td>1</td>\n",
       "      <td>*A852E7F5D89AA564AF4DA87FE95D9947A3967CEC</td>\n",
       "      <td>*1267BF7A2516009C89642925A67CCA0EE89777A0</td>\n",
       "      <td>C-BUS</td>\n",
       "      <td>Business IT &amp; Logistics</td>\n",
       "      <td>0 days 01:01:33</td>\n",
       "    </tr>\n",
       "    <tr>\n",
       "      <td>2</td>\n",
       "      <td>*D02DA5003C7D760F169B58CDF9B94956C6317FCE</td>\n",
       "      <td>*1267BF7A2516009C89642925A67CCA0EE89777A0</td>\n",
       "      <td>C-BUS</td>\n",
       "      <td>Business IT &amp; Logistics</td>\n",
       "      <td>0 days 01:03:15</td>\n",
       "    </tr>\n",
       "    <tr>\n",
       "      <td>3</td>\n",
       "      <td>*A4A1C43AC047FD6DE7833944F43ABDF9C9D2AAC2</td>\n",
       "      <td>*1267BF7A2516009C89642925A67CCA0EE89777A0</td>\n",
       "      <td>C-BUS</td>\n",
       "      <td>Business IT &amp; Logistics</td>\n",
       "      <td>0 days 01:04:37</td>\n",
       "    </tr>\n",
       "    <tr>\n",
       "      <td>4</td>\n",
       "      <td>*E7050ECAA958D2CD2763EE483E16FD9140D49E97</td>\n",
       "      <td>*BD13E5C24441890B281DB9F75A747D9673210ACD</td>\n",
       "      <td>C-BUS</td>\n",
       "      <td>Management</td>\n",
       "      <td>0 days 21:35:17</td>\n",
       "    </tr>\n",
       "  </tbody>\n",
       "</table>\n",
       "</div>"
      ],
      "text/plain": [
       "                                  Student.ID  \\\n",
       "0  *655EE4254CD6751292CEB436540F99EEDD7CF3C3   \n",
       "1  *A852E7F5D89AA564AF4DA87FE95D9947A3967CEC   \n",
       "2  *D02DA5003C7D760F169B58CDF9B94956C6317FCE   \n",
       "3  *A4A1C43AC047FD6DE7833944F43ABDF9C9D2AAC2   \n",
       "4  *E7050ECAA958D2CD2763EE483E16FD9140D49E97   \n",
       "\n",
       "                                  Teacher.ID College.Name  \\\n",
       "0  *1C06EF8D2A0EA85EE88F9A2CD2185BF0A0E85A9E          NaN   \n",
       "1  *1267BF7A2516009C89642925A67CCA0EE89777A0        C-BUS   \n",
       "2  *1267BF7A2516009C89642925A67CCA0EE89777A0        C-BUS   \n",
       "3  *1267BF7A2516009C89642925A67CCA0EE89777A0        C-BUS   \n",
       "4  *BD13E5C24441890B281DB9F75A747D9673210ACD        C-BUS   \n",
       "\n",
       "               School.Name      Timeliness  \n",
       "0                      NaN 6 days 18:23:13  \n",
       "1  Business IT & Logistics 0 days 01:01:33  \n",
       "2  Business IT & Logistics 0 days 01:03:15  \n",
       "3  Business IT & Logistics 0 days 01:04:37  \n",
       "4               Management 0 days 21:35:17  "
      ]
     },
     "execution_count": 37,
     "metadata": {},
     "output_type": "execute_result"
    }
   ],
   "source": [
    "#create the column Timeliness to the original data set \n",
    "data['Timeliness']=data['Teacher.Response.Time']-data['Student.Message.Time']\n",
    "\n",
    "#delete student message time and teacher response time\n",
    "del data['Teacher.Response.Time']\n",
    "del data['Student.Message.Time']\n",
    "\n",
    "#View the resultant dataset\n",
    "data.head()"
   ]
  },
  {
   "cell_type": "code",
   "execution_count": 38,
   "metadata": {},
   "outputs": [
    {
     "data": {
      "text/plain": [
       "Student.ID          0\n",
       "Teacher.ID          0\n",
       "College.Name    13664\n",
       "School.Name     13664\n",
       "Timeliness          0\n",
       "dtype: int64"
      ]
     },
     "execution_count": 38,
     "metadata": {},
     "output_type": "execute_result"
    }
   ],
   "source": [
    "#check for missing data\n",
    "data.isnull().sum()\n",
    "\n",
    "# From the results its clear that 13664(20% of total) college names and corresponding school names are missing,So at the \n",
    "#college level data exploration, its better to get rid of these rows and proceed with the available school names.Missing \n",
    "#value replacement is not an ideal method in this scenario."
   ]
  },
  {
   "cell_type": "code",
   "execution_count": 39,
   "metadata": {},
   "outputs": [
    {
     "data": {
      "text/plain": [
       "(52345, 5)"
      ]
     },
     "execution_count": 39,
     "metadata": {},
     "output_type": "execute_result"
    }
   ],
   "source": [
    "# eliminating rows with missing data\n",
    "data=data.dropna()\n",
    "\n",
    "#check the shape of new dataset\n",
    "data.shape #66009-13664"
   ]
  },
  {
   "cell_type": "code",
   "execution_count": 40,
   "metadata": {},
   "outputs": [
    {
     "data": {
      "text/html": [
       "<div>\n",
       "<style scoped>\n",
       "    .dataframe tbody tr th:only-of-type {\n",
       "        vertical-align: middle;\n",
       "    }\n",
       "\n",
       "    .dataframe tbody tr th {\n",
       "        vertical-align: top;\n",
       "    }\n",
       "\n",
       "    .dataframe thead th {\n",
       "        text-align: right;\n",
       "    }\n",
       "</style>\n",
       "<table border=\"1\" class=\"dataframe\">\n",
       "  <thead>\n",
       "    <tr style=\"text-align: right;\">\n",
       "      <th></th>\n",
       "      <th>Student.ID</th>\n",
       "      <th>Teacher.ID</th>\n",
       "      <th>College.Name</th>\n",
       "      <th>School.Name</th>\n",
       "      <th>Timeliness</th>\n",
       "    </tr>\n",
       "  </thead>\n",
       "  <tbody>\n",
       "    <tr>\n",
       "      <td>count</td>\n",
       "      <td>52345</td>\n",
       "      <td>52345</td>\n",
       "      <td>52345</td>\n",
       "      <td>52345</td>\n",
       "      <td>52345</td>\n",
       "    </tr>\n",
       "    <tr>\n",
       "      <td>unique</td>\n",
       "      <td>14032</td>\n",
       "      <td>2659</td>\n",
       "      <td>5</td>\n",
       "      <td>29</td>\n",
       "      <td>NaN</td>\n",
       "    </tr>\n",
       "    <tr>\n",
       "      <td>top</td>\n",
       "      <td>*CDDDA25642379B9D39DE456F67B187DE81E57B4B</td>\n",
       "      <td>*29B44B3B5378CC21252E88B24745828720C420AB</td>\n",
       "      <td>C-BUS</td>\n",
       "      <td>Science</td>\n",
       "      <td>NaN</td>\n",
       "    </tr>\n",
       "    <tr>\n",
       "      <td>freq</td>\n",
       "      <td>236</td>\n",
       "      <td>572</td>\n",
       "      <td>18130</td>\n",
       "      <td>7736</td>\n",
       "      <td>NaN</td>\n",
       "    </tr>\n",
       "    <tr>\n",
       "      <td>mean</td>\n",
       "      <td>NaN</td>\n",
       "      <td>NaN</td>\n",
       "      <td>NaN</td>\n",
       "      <td>NaN</td>\n",
       "      <td>1 days 04:02:05.901958</td>\n",
       "    </tr>\n",
       "    <tr>\n",
       "      <td>std</td>\n",
       "      <td>NaN</td>\n",
       "      <td>NaN</td>\n",
       "      <td>NaN</td>\n",
       "      <td>NaN</td>\n",
       "      <td>4 days 13:09:47.407007</td>\n",
       "    </tr>\n",
       "    <tr>\n",
       "      <td>min</td>\n",
       "      <td>NaN</td>\n",
       "      <td>NaN</td>\n",
       "      <td>NaN</td>\n",
       "      <td>NaN</td>\n",
       "      <td>0 days 00:00:05</td>\n",
       "    </tr>\n",
       "    <tr>\n",
       "      <td>25%</td>\n",
       "      <td>NaN</td>\n",
       "      <td>NaN</td>\n",
       "      <td>NaN</td>\n",
       "      <td>NaN</td>\n",
       "      <td>0 days 00:30:41</td>\n",
       "    </tr>\n",
       "    <tr>\n",
       "      <td>50%</td>\n",
       "      <td>NaN</td>\n",
       "      <td>NaN</td>\n",
       "      <td>NaN</td>\n",
       "      <td>NaN</td>\n",
       "      <td>0 days 04:02:33</td>\n",
       "    </tr>\n",
       "    <tr>\n",
       "      <td>75%</td>\n",
       "      <td>NaN</td>\n",
       "      <td>NaN</td>\n",
       "      <td>NaN</td>\n",
       "      <td>NaN</td>\n",
       "      <td>0 days 19:15:57</td>\n",
       "    </tr>\n",
       "    <tr>\n",
       "      <td>max</td>\n",
       "      <td>NaN</td>\n",
       "      <td>NaN</td>\n",
       "      <td>NaN</td>\n",
       "      <td>NaN</td>\n",
       "      <td>175 days 09:59:20</td>\n",
       "    </tr>\n",
       "  </tbody>\n",
       "</table>\n",
       "</div>"
      ],
      "text/plain": [
       "                                       Student.ID  \\\n",
       "count                                       52345   \n",
       "unique                                      14032   \n",
       "top     *CDDDA25642379B9D39DE456F67B187DE81E57B4B   \n",
       "freq                                          236   \n",
       "mean                                          NaN   \n",
       "std                                           NaN   \n",
       "min                                           NaN   \n",
       "25%                                           NaN   \n",
       "50%                                           NaN   \n",
       "75%                                           NaN   \n",
       "max                                           NaN   \n",
       "\n",
       "                                       Teacher.ID College.Name School.Name  \\\n",
       "count                                       52345        52345       52345   \n",
       "unique                                       2659            5          29   \n",
       "top     *29B44B3B5378CC21252E88B24745828720C420AB        C-BUS     Science   \n",
       "freq                                          572        18130        7736   \n",
       "mean                                          NaN          NaN         NaN   \n",
       "std                                           NaN          NaN         NaN   \n",
       "min                                           NaN          NaN         NaN   \n",
       "25%                                           NaN          NaN         NaN   \n",
       "50%                                           NaN          NaN         NaN   \n",
       "75%                                           NaN          NaN         NaN   \n",
       "max                                           NaN          NaN         NaN   \n",
       "\n",
       "                    Timeliness  \n",
       "count                    52345  \n",
       "unique                     NaN  \n",
       "top                        NaN  \n",
       "freq                       NaN  \n",
       "mean    1 days 04:02:05.901958  \n",
       "std     4 days 13:09:47.407007  \n",
       "min            0 days 00:00:05  \n",
       "25%            0 days 00:30:41  \n",
       "50%            0 days 04:02:33  \n",
       "75%            0 days 19:15:57  \n",
       "max          175 days 09:59:20  "
      ]
     },
     "execution_count": 40,
     "metadata": {},
     "output_type": "execute_result"
    }
   ],
   "source": [
    "# High level descripton\n",
    "data.describe(include='all')\n",
    "\n",
    "#no of students=14032\n",
    "#no of teachers=2659\n",
    "#no of colleges=5\n",
    "#no of school=29"
   ]
  },
  {
   "cell_type": "code",
   "execution_count": 41,
   "metadata": {},
   "outputs": [
    {
     "data": {
      "text/plain": [
       "Student.ID      14032\n",
       "Teacher.ID       2659\n",
       "College.Name        5\n",
       "School.Name        29\n",
       "Timeliness      33509\n",
       "dtype: int64"
      ]
     },
     "execution_count": 41,
     "metadata": {},
     "output_type": "execute_result"
    }
   ],
   "source": [
    "#Unique values in each column \n",
    "data.nunique()\n",
    "\n",
    "#no of students=14032\n",
    "#no of teachers=2659\n",
    "#no of colleges=5\n",
    "#no of school=29"
   ]
  },
  {
   "cell_type": "code",
   "execution_count": 42,
   "metadata": {},
   "outputs": [
    {
     "data": {
      "text/plain": [
       "<matplotlib.axes._subplots.AxesSubplot at 0x8cc2594808>"
      ]
     },
     "execution_count": 42,
     "metadata": {},
     "output_type": "execute_result"
    },
    {
     "data": {
      "image/png": "[encoded data removed]",
      "text/plain": [
       "<Figure size 432x288 with 1 Axes>"
      ]
     },
     "metadata": {
      "needs_background": "light"
     },
     "output_type": "display_data"
    }
   ],
   "source": [
    "#Univariate Analysis\n",
    "#Frequency distribution of College \n",
    "data['College.Name'].value_counts().plot.bar(title='Frequency distribution of college')\n",
    "\n",
    "#The barplot shows the frequency distribution of college across all the rows.It shows  C-BUS and B-DSC have the most frequency \n",
    "#followed by A-SEH.z-TRN and E-VNM are the least among these 5."
   ]
  },
  {
   "cell_type": "code",
   "execution_count": 43,
   "metadata": {},
   "outputs": [
    {
     "data": {
      "text/plain": [
       "<matplotlib.axes._subplots.AxesSubplot at 0x8ccf6b0308>"
      ]
     },
     "execution_count": 43,
     "metadata": {},
     "output_type": "execute_result"
    },
    {
     "data": {
      "image/png": "[encoded data removed]",
      "text/plain": [
       "<Figure size 432x288 with 1 Axes>"
      ]
     },
     "metadata": {
      "needs_background": "light"
     },
     "output_type": "display_data"
    }
   ],
   "source": [
    "#FREQUENCY DISTRIBUTION OF SCHOOL\n",
    "data['School.Name'].value_counts().plot.bar(title='Frequency distribution of School')"
   ]
  },
  {
   "cell_type": "code",
   "execution_count": 44,
   "metadata": {},
   "outputs": [
    {
     "data": {
      "text/plain": [
       "<matplotlib.axes._subplots.AxesSubplot at 0x8ccff6e608>"
      ]
     },
     "execution_count": 44,
     "metadata": {},
     "output_type": "execute_result"
    },
    {
     "data": {
      "image/png": "[encoded data removed]",
      "text/plain": [
       "<Figure size 576x576 with 1 Axes>"
      ]
     },
     "metadata": {
      "needs_background": "light"
     },
     "output_type": "display_data"
    }
   ],
   "source": [
    "#visualise Timeliness across college \n",
    "#without removing outliers\n",
    "data.boxplot(column=\"Timeliness\",        # Column to plot\n",
    "                 by= \"College.Name\",         # Column to split upon\n",
    "                 figsize= (8,8))        # Figure size\n",
    "\n",
    "#Here we can see many ouliers, these outliers have to be removed for further analysis"
   ]
  },
  {
   "cell_type": "code",
   "execution_count": 45,
   "metadata": {},
   "outputs": [
    {
     "data": {
      "text/html": [
       "<div>\n",
       "<style scoped>\n",
       "    .dataframe tbody tr th:only-of-type {\n",
       "        vertical-align: middle;\n",
       "    }\n",
       "\n",
       "    .dataframe tbody tr th {\n",
       "        vertical-align: top;\n",
       "    }\n",
       "\n",
       "    .dataframe thead th {\n",
       "        text-align: right;\n",
       "    }\n",
       "</style>\n",
       "<table border=\"1\" class=\"dataframe\">\n",
       "  <thead>\n",
       "    <tr style=\"text-align: right;\">\n",
       "      <th></th>\n",
       "      <th>Timeliness</th>\n",
       "    </tr>\n",
       "  </thead>\n",
       "  <tbody>\n",
       "    <tr>\n",
       "      <td>count</td>\n",
       "      <td>52345</td>\n",
       "    </tr>\n",
       "    <tr>\n",
       "      <td>mean</td>\n",
       "      <td>1 days 04:02:05.901958</td>\n",
       "    </tr>\n",
       "    <tr>\n",
       "      <td>std</td>\n",
       "      <td>4 days 13:09:47.407007</td>\n",
       "    </tr>\n",
       "    <tr>\n",
       "      <td>min</td>\n",
       "      <td>0 days 00:00:05</td>\n",
       "    </tr>\n",
       "    <tr>\n",
       "      <td>25%</td>\n",
       "      <td>0 days 00:30:41</td>\n",
       "    </tr>\n",
       "    <tr>\n",
       "      <td>50%</td>\n",
       "      <td>0 days 04:02:33</td>\n",
       "    </tr>\n",
       "    <tr>\n",
       "      <td>75%</td>\n",
       "      <td>0 days 19:15:57</td>\n",
       "    </tr>\n",
       "    <tr>\n",
       "      <td>max</td>\n",
       "      <td>175 days 09:59:20</td>\n",
       "    </tr>\n",
       "  </tbody>\n",
       "</table>\n",
       "</div>"
      ],
      "text/plain": [
       "                   Timeliness\n",
       "count                   52345\n",
       "mean   1 days 04:02:05.901958\n",
       "std    4 days 13:09:47.407007\n",
       "min           0 days 00:00:05\n",
       "25%           0 days 00:30:41\n",
       "50%           0 days 04:02:33\n",
       "75%           0 days 19:15:57\n",
       "max         175 days 09:59:20"
      ]
     },
     "execution_count": 45,
     "metadata": {},
     "output_type": "execute_result"
    }
   ],
   "source": [
    "#Statistical quantile analysis\n",
    "data.describe()"
   ]
  },
  {
   "cell_type": "code",
   "execution_count": 46,
   "metadata": {},
   "outputs": [
    {
     "data": {
      "text/plain": [
       "(46214, 5)"
      ]
     },
     "execution_count": 46,
     "metadata": {},
     "output_type": "execute_result"
    }
   ],
   "source": [
    "#------------------------------------------------------------------------------\n",
    "# accept a dataframe, remove outliers, return cleaned data in a new dataframe\n",
    "#------------------------------------------------------------------------------\n",
    "def remove_outlier(df_in, col_name):\n",
    "    q1 = data[col_name].quantile(0.25)\n",
    "    q3 = data[col_name].quantile(0.75)\n",
    "    iqr = q3-q1 #Interquartile range\n",
    "    fence_low  = q1-1.5*iqr\n",
    "    fence_high = q3+1.5*iqr\n",
    "    df_out = data.loc[(df_in[col_name] > fence_low) & (df_in[col_name] < fence_high)]\n",
    "    return df_out\n",
    "\n",
    "#call function to remove otliers\n",
    "data_out=remove_outlier(data, 'Timeliness')\n",
    "\n",
    "#view the shape\n",
    "data_out.shape\n"
   ]
  },
  {
   "cell_type": "code",
   "execution_count": 47,
   "metadata": {},
   "outputs": [
    {
     "data": {
      "text/plain": [
       "<matplotlib.axes._subplots.AxesSubplot at 0x8ccd54c888>"
      ]
     },
     "execution_count": 47,
     "metadata": {},
     "output_type": "execute_result"
    },
    {
     "data": {
      "image/png": "[encoded data removed]",
      "text/plain": [
       "<Figure size 576x576 with 1 Axes>"
      ]
     },
     "metadata": {
      "needs_background": "light"
     },
     "output_type": "display_data"
    }
   ],
   "source": [
    "#visualise Timeliness across college \n",
    "#without removing outliers\n",
    "data_out.boxplot(column=\"Timeliness\",        # Column to plot\n",
    "                 by= \"College.Name\",         # Column to split upon\n",
    "                 figsize= (8,8))        # Figure size"
   ]
  },
  {
   "cell_type": "code",
   "execution_count": 48,
   "metadata": {},
   "outputs": [
    {
     "data": {
      "text/plain": [
       "Student.ID               object\n",
       "Teacher.ID               object\n",
       "College.Name             object\n",
       "School.Name              object\n",
       "Timeliness      timedelta64[ns]\n",
       "dtype: object"
      ]
     },
     "execution_count": 48,
     "metadata": {},
     "output_type": "execute_result"
    }
   ],
   "source": [
    "#check for datatypes\n",
    "\n",
    "data_out.dtypes"
   ]
  },
  {
   "cell_type": "code",
   "execution_count": 49,
   "metadata": {},
   "outputs": [
    {
     "name": "stderr",
     "output_type": "stream",
     "text": [
      "C:\\Users\\ADMIN\\Anaconda3\\lib\\site-packages\\ipykernel_launcher.py:3: SettingWithCopyWarning: \n",
      "A value is trying to be set on a copy of a slice from a DataFrame.\n",
      "Try using .loc[row_indexer,col_indexer] = value instead\n",
      "\n",
      "See the caveats in the documentation: http://pandas.pydata.org/pandas-docs/stable/user_guide/indexing.html#returning-a-view-versus-a-copy\n",
      "  This is separate from the ipykernel package so we can avoid doing imports until\n"
     ]
    }
   ],
   "source": [
    "#convert the TIMELINESS TO SECONDS\n",
    "\n",
    "data_out['Timeliness_second']=data_out['Timeliness'].astype('timedelta64[s]')"
   ]
  },
  {
   "cell_type": "code",
   "execution_count": 50,
   "metadata": {},
   "outputs": [
    {
     "data": {
      "text/html": [
       "<div>\n",
       "<style scoped>\n",
       "    .dataframe tbody tr th:only-of-type {\n",
       "        vertical-align: middle;\n",
       "    }\n",
       "\n",
       "    .dataframe tbody tr th {\n",
       "        vertical-align: top;\n",
       "    }\n",
       "\n",
       "    .dataframe thead th {\n",
       "        text-align: right;\n",
       "    }\n",
       "</style>\n",
       "<table border=\"1\" class=\"dataframe\">\n",
       "  <thead>\n",
       "    <tr style=\"text-align: right;\">\n",
       "      <th></th>\n",
       "      <th>Student.ID</th>\n",
       "      <th>Teacher.ID</th>\n",
       "      <th>College.Name</th>\n",
       "      <th>School.Name</th>\n",
       "      <th>Timeliness</th>\n",
       "      <th>Timeliness_second</th>\n",
       "    </tr>\n",
       "  </thead>\n",
       "  <tbody>\n",
       "    <tr>\n",
       "      <td>1</td>\n",
       "      <td>*A852E7F5D89AA564AF4DA87FE95D9947A3967CEC</td>\n",
       "      <td>*1267BF7A2516009C89642925A67CCA0EE89777A0</td>\n",
       "      <td>C-BUS</td>\n",
       "      <td>Business IT &amp; Logistics</td>\n",
       "      <td>01:01:33</td>\n",
       "      <td>3693.0</td>\n",
       "    </tr>\n",
       "    <tr>\n",
       "      <td>2</td>\n",
       "      <td>*D02DA5003C7D760F169B58CDF9B94956C6317FCE</td>\n",
       "      <td>*1267BF7A2516009C89642925A67CCA0EE89777A0</td>\n",
       "      <td>C-BUS</td>\n",
       "      <td>Business IT &amp; Logistics</td>\n",
       "      <td>01:03:15</td>\n",
       "      <td>3795.0</td>\n",
       "    </tr>\n",
       "    <tr>\n",
       "      <td>3</td>\n",
       "      <td>*A4A1C43AC047FD6DE7833944F43ABDF9C9D2AAC2</td>\n",
       "      <td>*1267BF7A2516009C89642925A67CCA0EE89777A0</td>\n",
       "      <td>C-BUS</td>\n",
       "      <td>Business IT &amp; Logistics</td>\n",
       "      <td>01:04:37</td>\n",
       "      <td>3877.0</td>\n",
       "    </tr>\n",
       "    <tr>\n",
       "      <td>4</td>\n",
       "      <td>*E7050ECAA958D2CD2763EE483E16FD9140D49E97</td>\n",
       "      <td>*BD13E5C24441890B281DB9F75A747D9673210ACD</td>\n",
       "      <td>C-BUS</td>\n",
       "      <td>Management</td>\n",
       "      <td>21:35:17</td>\n",
       "      <td>77717.0</td>\n",
       "    </tr>\n",
       "    <tr>\n",
       "      <td>5</td>\n",
       "      <td>*A576925C8ED8D612F26322A6CF857E195B6297F3</td>\n",
       "      <td>*A824F809F70F28C4D923F712E44E8188A75D33C6</td>\n",
       "      <td>C-BUS</td>\n",
       "      <td>Economics, Finance &amp; Marketing</td>\n",
       "      <td>21:48:08</td>\n",
       "      <td>78488.0</td>\n",
       "    </tr>\n",
       "  </tbody>\n",
       "</table>\n",
       "</div>"
      ],
      "text/plain": [
       "                                  Student.ID  \\\n",
       "1  *A852E7F5D89AA564AF4DA87FE95D9947A3967CEC   \n",
       "2  *D02DA5003C7D760F169B58CDF9B94956C6317FCE   \n",
       "3  *A4A1C43AC047FD6DE7833944F43ABDF9C9D2AAC2   \n",
       "4  *E7050ECAA958D2CD2763EE483E16FD9140D49E97   \n",
       "5  *A576925C8ED8D612F26322A6CF857E195B6297F3   \n",
       "\n",
       "                                  Teacher.ID College.Name  \\\n",
       "1  *1267BF7A2516009C89642925A67CCA0EE89777A0        C-BUS   \n",
       "2  *1267BF7A2516009C89642925A67CCA0EE89777A0        C-BUS   \n",
       "3  *1267BF7A2516009C89642925A67CCA0EE89777A0        C-BUS   \n",
       "4  *BD13E5C24441890B281DB9F75A747D9673210ACD        C-BUS   \n",
       "5  *A824F809F70F28C4D923F712E44E8188A75D33C6        C-BUS   \n",
       "\n",
       "                      School.Name Timeliness  Timeliness_second  \n",
       "1         Business IT & Logistics   01:01:33             3693.0  \n",
       "2         Business IT & Logistics   01:03:15             3795.0  \n",
       "3         Business IT & Logistics   01:04:37             3877.0  \n",
       "4                      Management   21:35:17            77717.0  \n",
       "5  Economics, Finance & Marketing   21:48:08            78488.0  "
      ]
     },
     "execution_count": 50,
     "metadata": {},
     "output_type": "execute_result"
    }
   ],
   "source": [
    "#chec sample output\n",
    "data_out.head()"
   ]
  },
  {
   "cell_type": "code",
   "execution_count": 51,
   "metadata": {},
   "outputs": [
    {
     "name": "stderr",
     "output_type": "stream",
     "text": [
      "C:\\Users\\ADMIN\\Anaconda3\\lib\\site-packages\\scipy\\stats\\stats.py:1713: FutureWarning: Using a non-tuple sequence for multidimensional indexing is deprecated; use `arr[tuple(seq)]` instead of `arr[seq]`. In the future this will be interpreted as an array index, `arr[np.array(seq)]`, which will result either in an error or a different result.\n",
      "  return np.add.reduce(sorted[indexer] * weights, axis=axis) / sumval\n"
     ]
    },
    {
     "data": {
      "text/plain": [
       "<matplotlib.axes._subplots.AxesSubplot at 0x8cd31cc3c8>"
      ]
     },
     "execution_count": 51,
     "metadata": {},
     "output_type": "execute_result"
    },
    {
     "data": {
      "image/png": "[encoded data removed]",
      "text/plain": [
       "<Figure size 432x288 with 1 Axes>"
      ]
     },
     "metadata": {
      "needs_background": "light"
     },
     "output_type": "display_data"
    }
   ],
   "source": [
    "#density plot of timeliness\n",
    "sns.distplot(data_out['Timeliness_second'],bins=50)\n",
    "\n",
    "#Density of timeliness reduces dramatically after 25000/50000\n",
    "#Better response rime is always have the lower timeliness values.So for further analysis, deviding the dataset into two, with\n",
    "#timeliness less than 50000 seconds and timeliness greater than 50000 seconds.\n"
   ]
  },
  {
   "cell_type": "code",
   "execution_count": 52,
   "metadata": {},
   "outputs": [
    {
     "data": {
      "image/png": "[encoded data removed]",
      "text/plain": [
       "<Figure size 720x720 with 1 Axes>"
      ]
     },
     "metadata": {
      "needs_background": "light"
     },
     "output_type": "display_data"
    }
   ],
   "source": [
    "#box plot of Timeliness according to college\n",
    "plt.figure(figsize=(10, 10))\n",
    "sns.boxplot(x=\"College.Name\", y=\"Timeliness_second\", data=data_out);\n",
    "\n",
    "#From the box plot its clear that the upper bound of all the graphs is around 50000 seconds\n"
   ]
  },
  {
   "cell_type": "code",
   "execution_count": 53,
   "metadata": {},
   "outputs": [
    {
     "data": {
      "text/html": [
       "<div>\n",
       "<style scoped>\n",
       "    .dataframe tbody tr th:only-of-type {\n",
       "        vertical-align: middle;\n",
       "    }\n",
       "\n",
       "    .dataframe tbody tr th {\n",
       "        vertical-align: top;\n",
       "    }\n",
       "\n",
       "    .dataframe thead th {\n",
       "        text-align: right;\n",
       "    }\n",
       "</style>\n",
       "<table border=\"1\" class=\"dataframe\">\n",
       "  <thead>\n",
       "    <tr style=\"text-align: right;\">\n",
       "      <th></th>\n",
       "      <th>College.Name</th>\n",
       "      <th>count</th>\n",
       "      <th>mean</th>\n",
       "      <th>std</th>\n",
       "      <th>min</th>\n",
       "      <th>25%</th>\n",
       "      <th>50%</th>\n",
       "      <th>75%</th>\n",
       "      <th>max</th>\n",
       "    </tr>\n",
       "  </thead>\n",
       "  <tbody>\n",
       "    <tr>\n",
       "      <td>0</td>\n",
       "      <td>A-SEH</td>\n",
       "      <td>12371.0</td>\n",
       "      <td>28084.751111</td>\n",
       "      <td>38749.248201</td>\n",
       "      <td>5.0</td>\n",
       "      <td>1174.00</td>\n",
       "      <td>7415.0</td>\n",
       "      <td>45473.50</td>\n",
       "      <td>170475.0</td>\n",
       "    </tr>\n",
       "    <tr>\n",
       "      <td>1</td>\n",
       "      <td>B-DSC</td>\n",
       "      <td>15572.0</td>\n",
       "      <td>31395.940791</td>\n",
       "      <td>40455.147348</td>\n",
       "      <td>18.0</td>\n",
       "      <td>1603.75</td>\n",
       "      <td>10378.5</td>\n",
       "      <td>53514.50</td>\n",
       "      <td>170577.0</td>\n",
       "    </tr>\n",
       "    <tr>\n",
       "      <td>2</td>\n",
       "      <td>C-BUS</td>\n",
       "      <td>16279.0</td>\n",
       "      <td>28901.098532</td>\n",
       "      <td>38286.117516</td>\n",
       "      <td>6.0</td>\n",
       "      <td>1407.00</td>\n",
       "      <td>9175.0</td>\n",
       "      <td>48158.00</td>\n",
       "      <td>170571.0</td>\n",
       "    </tr>\n",
       "    <tr>\n",
       "      <td>3</td>\n",
       "      <td>E-VNM</td>\n",
       "      <td>786.0</td>\n",
       "      <td>26999.876590</td>\n",
       "      <td>37387.889691</td>\n",
       "      <td>69.0</td>\n",
       "      <td>890.00</td>\n",
       "      <td>6537.5</td>\n",
       "      <td>44935.00</td>\n",
       "      <td>170112.0</td>\n",
       "    </tr>\n",
       "    <tr>\n",
       "      <td>4</td>\n",
       "      <td>Z-TRN</td>\n",
       "      <td>1206.0</td>\n",
       "      <td>26053.670813</td>\n",
       "      <td>36861.599312</td>\n",
       "      <td>29.0</td>\n",
       "      <td>1592.25</td>\n",
       "      <td>6902.0</td>\n",
       "      <td>41070.75</td>\n",
       "      <td>170203.0</td>\n",
       "    </tr>\n",
       "  </tbody>\n",
       "</table>\n",
       "</div>"
      ],
      "text/plain": [
       "  College.Name    count          mean           std   min      25%      50%  \\\n",
       "0        A-SEH  12371.0  28084.751111  38749.248201   5.0  1174.00   7415.0   \n",
       "1        B-DSC  15572.0  31395.940791  40455.147348  18.0  1603.75  10378.5   \n",
       "2        C-BUS  16279.0  28901.098532  38286.117516   6.0  1407.00   9175.0   \n",
       "3        E-VNM    786.0  26999.876590  37387.889691  69.0   890.00   6537.5   \n",
       "4        Z-TRN   1206.0  26053.670813  36861.599312  29.0  1592.25   6902.0   \n",
       "\n",
       "        75%       max  \n",
       "0  45473.50  170475.0  \n",
       "1  53514.50  170577.0  \n",
       "2  48158.00  170571.0  \n",
       "3  44935.00  170112.0  \n",
       "4  41070.75  170203.0  "
      ]
     },
     "execution_count": 53,
     "metadata": {},
     "output_type": "execute_result"
    }
   ],
   "source": [
    "#Quantile statistics of Timeliness across different colleges\n",
    "\n",
    "data_out.groupby(\"College.Name\")[\"Timeliness_second\"].describe().reset_index()"
   ]
  },
  {
   "cell_type": "code",
   "execution_count": 54,
   "metadata": {},
   "outputs": [
    {
     "name": "stderr",
     "output_type": "stream",
     "text": [
      "C:\\Users\\ADMIN\\Anaconda3\\lib\\site-packages\\ipykernel_launcher.py:5: SettingWithCopyWarning: \n",
      "A value is trying to be set on a copy of a slice from a DataFrame.\n",
      "Try using .loc[row_indexer,col_indexer] = value instead\n",
      "\n",
      "See the caveats in the documentation: http://pandas.pydata.org/pandas-docs/stable/user_guide/indexing.html#returning-a-view-versus-a-copy\n",
      "  \"\"\"\n"
     ]
    }
   ],
   "source": [
    "#Binning the timeliness\n",
    "#Change timeliness into categorical variableTimelinessBin\n",
    "cut_labels_6 = ['<5m', '5m-15m', '15m-30m', '30m-1hr','1hr-1day','>1day']\n",
    "cut_bins = [0, 300, 900, 1800, 36000,86400,170577]\n",
    "data_out['TimelinessBin'] = pd.cut(data_out['Timeliness_second'], bins=cut_bins, labels=cut_labels_6)"
   ]
  },
  {
   "cell_type": "code",
   "execution_count": 55,
   "metadata": {},
   "outputs": [
    {
     "data": {
      "text/plain": [
       "[30m-1hr, 1hr-1day, 5m-15m, <5m, 15m-30m, >1day]\n",
       "Categories (6, object): [<5m < 5m-15m < 15m-30m < 30m-1hr < 1hr-1day < >1day]"
      ]
     },
     "execution_count": 55,
     "metadata": {},
     "output_type": "execute_result"
    }
   ],
   "source": [
    "#Check the timeliness bins values\n",
    "data_out['TimelinessBin'].unique()"
   ]
  },
  {
   "cell_type": "code",
   "execution_count": 56,
   "metadata": {},
   "outputs": [
    {
     "data": {
      "text/plain": [
       "Text(0.5, 1, 'Count distribution of Timeliness Across College')"
      ]
     },
     "execution_count": 56,
     "metadata": {},
     "output_type": "execute_result"
    },
    {
     "data": {
      "text/plain": [
       "<Figure size 864x864 with 0 Axes>"
      ]
     },
     "metadata": {},
     "output_type": "display_data"
    },
    {
     "data": {
      "image/png": "[encoded data removed]",
      "text/plain": [
       "<Figure size 444.125x360 with 1 Axes>"
      ]
     },
     "metadata": {
      "needs_background": "light"
     },
     "output_type": "display_data"
    }
   ],
   "source": [
    "#Plot the timeliness across different colleges\n",
    "plt.figure(figsize=(12, 12))\n",
    "sns.catplot(x=\"College.Name\", hue=\"TimelinessBin\", kind=\"count\",\n",
    "            palette=\"pastel\", edgecolor=\".1\",\n",
    "            data=data_out);\n",
    "plt.title(\"Count distribution of Timeliness Across College\")\n",
    "#Since this shows only the no of responses across each bin and not a percentage information across total, we cannnot compare the \n",
    "#distribution of timeliness properly across colleges.So, for better understanding and visibility, convert the timeliness into \n",
    "#percentage and displaying below"
   ]
  },
  {
   "cell_type": "code",
   "execution_count": 57,
   "metadata": {},
   "outputs": [
    {
     "data": {
      "text/plain": [
       "<function matplotlib.pyplot.show(*args, **kw)>"
      ]
     },
     "execution_count": 57,
     "metadata": {},
     "output_type": "execute_result"
    },
    {
     "data": {
      "image/png": "[encoded data removed]",
      "text/plain": [
       "<Figure size 720x720 with 1 Axes>"
      ]
     },
     "metadata": {
      "needs_background": "light"
     },
     "output_type": "display_data"
    }
   ],
   "source": [
    "#Display percentage of timeliness across college\n",
    "plt.figure(figsize=(10, 10))\n",
    "timeliness_counts = (data_out.groupby(['College.Name'])['TimelinessBin']\n",
    "                     .value_counts(normalize=True)\n",
    "                     .rename('percentage')\n",
    "                     .mul(100)\n",
    "                     .reset_index()\n",
    "                     .sort_values('TimelinessBin'))\n",
    "p = sns.barplot(x=\"College.Name\", y=\"percentage\", hue=\"TimelinessBin\", data=timeliness_counts,palette=\"pastel\", edgecolor=\".4\")\n",
    "_ = plt.setp(p.get_xticklabels(), rotation=90)  # Rotate labels\n",
    "plt.title(\"Percentage distribution of Timeliness Across College\")\n",
    "plt.ylabel(\"Percentage of Timeliness\")\n",
    "plt.show"
   ]
  },
  {
   "cell_type": "code",
   "execution_count": 62,
   "metadata": {},
   "outputs": [
    {
     "data": {
      "text/html": [
       "<div>\n",
       "<style scoped>\n",
       "    .dataframe tbody tr th:only-of-type {\n",
       "        vertical-align: middle;\n",
       "    }\n",
       "\n",
       "    .dataframe tbody tr th {\n",
       "        vertical-align: top;\n",
       "    }\n",
       "\n",
       "    .dataframe thead th {\n",
       "        text-align: right;\n",
       "    }\n",
       "</style>\n",
       "<table border=\"1\" class=\"dataframe\">\n",
       "  <thead>\n",
       "    <tr style=\"text-align: right;\">\n",
       "      <th></th>\n",
       "      <th>College.Name</th>\n",
       "      <th>TimelinessBin</th>\n",
       "      <th>percentage</th>\n",
       "    </tr>\n",
       "  </thead>\n",
       "  <tbody>\n",
       "    <tr>\n",
       "      <td>5</td>\n",
       "      <td>A-SEH</td>\n",
       "      <td>15m-30m</td>\n",
       "      <td>8.309757</td>\n",
       "    </tr>\n",
       "    <tr>\n",
       "      <td>3</td>\n",
       "      <td>A-SEH</td>\n",
       "      <td>&lt;5m</td>\n",
       "      <td>10.314445</td>\n",
       "    </tr>\n",
       "    <tr>\n",
       "      <td>1</td>\n",
       "      <td>A-SEH</td>\n",
       "      <td>1hr-1day</td>\n",
       "      <td>21.121979</td>\n",
       "    </tr>\n",
       "    <tr>\n",
       "      <td>2</td>\n",
       "      <td>A-SEH</td>\n",
       "      <td>5m-15m</td>\n",
       "      <td>11.583542</td>\n",
       "    </tr>\n",
       "    <tr>\n",
       "      <td>0</td>\n",
       "      <td>A-SEH</td>\n",
       "      <td>30m-1hr</td>\n",
       "      <td>39.915932</td>\n",
       "    </tr>\n",
       "    <tr>\n",
       "      <td>4</td>\n",
       "      <td>A-SEH</td>\n",
       "      <td>&gt;1day</td>\n",
       "      <td>8.754345</td>\n",
       "    </tr>\n",
       "    <tr>\n",
       "      <td>9</td>\n",
       "      <td>B-DSC</td>\n",
       "      <td>&gt;1day</td>\n",
       "      <td>9.767531</td>\n",
       "    </tr>\n",
       "    <tr>\n",
       "      <td>11</td>\n",
       "      <td>B-DSC</td>\n",
       "      <td>15m-30m</td>\n",
       "      <td>7.693296</td>\n",
       "    </tr>\n",
       "    <tr>\n",
       "      <td>10</td>\n",
       "      <td>B-DSC</td>\n",
       "      <td>&lt;5m</td>\n",
       "      <td>8.001541</td>\n",
       "    </tr>\n",
       "    <tr>\n",
       "      <td>7</td>\n",
       "      <td>B-DSC</td>\n",
       "      <td>1hr-1day</td>\n",
       "      <td>23.901875</td>\n",
       "    </tr>\n",
       "    <tr>\n",
       "      <td>8</td>\n",
       "      <td>B-DSC</td>\n",
       "      <td>5m-15m</td>\n",
       "      <td>10.685846</td>\n",
       "    </tr>\n",
       "    <tr>\n",
       "      <td>6</td>\n",
       "      <td>B-DSC</td>\n",
       "      <td>30m-1hr</td>\n",
       "      <td>39.949910</td>\n",
       "    </tr>\n",
       "    <tr>\n",
       "      <td>17</td>\n",
       "      <td>C-BUS</td>\n",
       "      <td>15m-30m</td>\n",
       "      <td>7.740033</td>\n",
       "    </tr>\n",
       "    <tr>\n",
       "      <td>15</td>\n",
       "      <td>C-BUS</td>\n",
       "      <td>&lt;5m</td>\n",
       "      <td>9.042324</td>\n",
       "    </tr>\n",
       "    <tr>\n",
       "      <td>14</td>\n",
       "      <td>C-BUS</td>\n",
       "      <td>5m-15m</td>\n",
       "      <td>11.020333</td>\n",
       "    </tr>\n",
       "    <tr>\n",
       "      <td>16</td>\n",
       "      <td>C-BUS</td>\n",
       "      <td>&gt;1day</td>\n",
       "      <td>8.348179</td>\n",
       "    </tr>\n",
       "    <tr>\n",
       "      <td>12</td>\n",
       "      <td>C-BUS</td>\n",
       "      <td>30m-1hr</td>\n",
       "      <td>40.801032</td>\n",
       "    </tr>\n",
       "    <tr>\n",
       "      <td>13</td>\n",
       "      <td>C-BUS</td>\n",
       "      <td>1hr-1day</td>\n",
       "      <td>23.048099</td>\n",
       "    </tr>\n",
       "    <tr>\n",
       "      <td>21</td>\n",
       "      <td>E-VNM</td>\n",
       "      <td>5m-15m</td>\n",
       "      <td>12.086514</td>\n",
       "    </tr>\n",
       "    <tr>\n",
       "      <td>18</td>\n",
       "      <td>E-VNM</td>\n",
       "      <td>30m-1hr</td>\n",
       "      <td>34.605598</td>\n",
       "    </tr>\n",
       "    <tr>\n",
       "      <td>20</td>\n",
       "      <td>E-VNM</td>\n",
       "      <td>&lt;5m</td>\n",
       "      <td>13.104326</td>\n",
       "    </tr>\n",
       "    <tr>\n",
       "      <td>19</td>\n",
       "      <td>E-VNM</td>\n",
       "      <td>1hr-1day</td>\n",
       "      <td>24.300254</td>\n",
       "    </tr>\n",
       "    <tr>\n",
       "      <td>22</td>\n",
       "      <td>E-VNM</td>\n",
       "      <td>15m-30m</td>\n",
       "      <td>8.524173</td>\n",
       "    </tr>\n",
       "    <tr>\n",
       "      <td>23</td>\n",
       "      <td>E-VNM</td>\n",
       "      <td>&gt;1day</td>\n",
       "      <td>7.379135</td>\n",
       "    </tr>\n",
       "    <tr>\n",
       "      <td>25</td>\n",
       "      <td>Z-TRN</td>\n",
       "      <td>1hr-1day</td>\n",
       "      <td>20.729685</td>\n",
       "    </tr>\n",
       "    <tr>\n",
       "      <td>29</td>\n",
       "      <td>Z-TRN</td>\n",
       "      <td>&lt;5m</td>\n",
       "      <td>7.048093</td>\n",
       "    </tr>\n",
       "    <tr>\n",
       "      <td>28</td>\n",
       "      <td>Z-TRN</td>\n",
       "      <td>&gt;1day</td>\n",
       "      <td>7.462687</td>\n",
       "    </tr>\n",
       "    <tr>\n",
       "      <td>27</td>\n",
       "      <td>Z-TRN</td>\n",
       "      <td>15m-30m</td>\n",
       "      <td>9.203980</td>\n",
       "    </tr>\n",
       "    <tr>\n",
       "      <td>26</td>\n",
       "      <td>Z-TRN</td>\n",
       "      <td>5m-15m</td>\n",
       "      <td>10.613599</td>\n",
       "    </tr>\n",
       "    <tr>\n",
       "      <td>24</td>\n",
       "      <td>Z-TRN</td>\n",
       "      <td>30m-1hr</td>\n",
       "      <td>44.941957</td>\n",
       "    </tr>\n",
       "  </tbody>\n",
       "</table>\n",
       "</div>"
      ],
      "text/plain": [
       "   College.Name TimelinessBin  percentage\n",
       "5         A-SEH       15m-30m    8.309757\n",
       "3         A-SEH           <5m   10.314445\n",
       "1         A-SEH      1hr-1day   21.121979\n",
       "2         A-SEH        5m-15m   11.583542\n",
       "0         A-SEH       30m-1hr   39.915932\n",
       "4         A-SEH         >1day    8.754345\n",
       "9         B-DSC         >1day    9.767531\n",
       "11        B-DSC       15m-30m    7.693296\n",
       "10        B-DSC           <5m    8.001541\n",
       "7         B-DSC      1hr-1day   23.901875\n",
       "8         B-DSC        5m-15m   10.685846\n",
       "6         B-DSC       30m-1hr   39.949910\n",
       "17        C-BUS       15m-30m    7.740033\n",
       "15        C-BUS           <5m    9.042324\n",
       "14        C-BUS        5m-15m   11.020333\n",
       "16        C-BUS         >1day    8.348179\n",
       "12        C-BUS       30m-1hr   40.801032\n",
       "13        C-BUS      1hr-1day   23.048099\n",
       "21        E-VNM        5m-15m   12.086514\n",
       "18        E-VNM       30m-1hr   34.605598\n",
       "20        E-VNM           <5m   13.104326\n",
       "19        E-VNM      1hr-1day   24.300254\n",
       "22        E-VNM       15m-30m    8.524173\n",
       "23        E-VNM         >1day    7.379135\n",
       "25        Z-TRN      1hr-1day   20.729685\n",
       "29        Z-TRN           <5m    7.048093\n",
       "28        Z-TRN         >1day    7.462687\n",
       "27        Z-TRN       15m-30m    9.203980\n",
       "26        Z-TRN        5m-15m   10.613599\n",
       "24        Z-TRN       30m-1hr   44.941957"
      ]
     },
     "execution_count": 62,
     "metadata": {},
     "output_type": "execute_result"
    }
   ],
   "source": [
    "#Percentage of Performance across different Colleges\n",
    "timeliness_counts.sort_values('College.Name')"
   ]
  },
  {
   "cell_type": "code",
   "execution_count": null,
   "metadata": {},
   "outputs": [],
   "source": []
  }
 ],
 "metadata": {
  "kernelspec": {
   "display_name": "Python 3",
   "language": "python",
   "name": "python3"
  },
  "language_info": {
   "codemirror_mode": {
    "name": "ipython",
    "version": 3
   },
   "file_extension": ".py",
   "mimetype": "text/x-python",
   "name": "python",
   "nbconvert_exporter": "python",
   "pygments_lexer": "ipython3",
   "version": "3.7.4"
  }
 },
 "nbformat": 4,
 "nbformat_minor": 2
}
