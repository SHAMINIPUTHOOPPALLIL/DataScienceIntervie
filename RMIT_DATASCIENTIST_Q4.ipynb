{
 "cells": [
  {
   "cell_type": "code",
   "execution_count": 1,
   "metadata": {},
   "outputs": [],
   "source": [
    "#Import the library\n",
    "import pandas as pd\n",
    "import numpy as np\n",
    "import seaborn as sns\n",
    "import matplotlib.pyplot as plt"
   ]
  },
  {
   "cell_type": "code",
   "execution_count": 2,
   "metadata": {},
   "outputs": [],
   "source": [
    "\n",
    "#Read the file\n",
    "xlsx = pd.ExcelFile('Dataset.xlsx')\n",
    "\n",
    "#read the data from local directory\n",
    "data = pd.read_excel(xlsx, 'Dataset')\n",
    "Originaldataset=data\n",
    "\n",
    "#view data sample\n",
    "#data.head()"
   ]
  },
  {
   "cell_type": "code",
   "execution_count": 3,
   "metadata": {},
   "outputs": [],
   "source": [
    "#create the column Timeliness to the original data set \n",
    "data['Timeliness']=data['Teacher.Response.Time']-data['Student.Message.Time']\n",
    "\n",
    "#delete student message time and teacher response time\n",
    "#del data['Teacher.Response.Time']\n",
    "#del data['Student.Message.Time']\n",
    "\n",
    "#View the resultant dataset\n",
    "#data.head()"
   ]
  },
  {
   "cell_type": "code",
   "execution_count": 4,
   "metadata": {},
   "outputs": [
    {
     "data": {
      "text/plain": [
       "(52345, 7)"
      ]
     },
     "execution_count": 4,
     "metadata": {},
     "output_type": "execute_result"
    }
   ],
   "source": [
    "# eliminating rows with missing data\n",
    "data=data.dropna()\n",
    "\n",
    "#check the shape of new dataset\n",
    "data.shape #66009-13664"
   ]
  },
  {
   "cell_type": "code",
   "execution_count": 5,
   "metadata": {},
   "outputs": [
    {
     "name": "stderr",
     "output_type": "stream",
     "text": [
      "C:\\Users\\ADMIN\\Anaconda3\\lib\\site-packages\\ipykernel_launcher.py:2: SettingWithCopyWarning: \n",
      "A value is trying to be set on a copy of a slice from a DataFrame.\n",
      "Try using .loc[row_indexer,col_indexer] = value instead\n",
      "\n",
      "See the caveats in the documentation: http://pandas.pydata.org/pandas-docs/stable/user_guide/indexing.html#returning-a-view-versus-a-copy\n",
      "  \n",
      "C:\\Users\\ADMIN\\Anaconda3\\lib\\site-packages\\ipykernel_launcher.py:3: SettingWithCopyWarning: \n",
      "A value is trying to be set on a copy of a slice from a DataFrame.\n",
      "Try using .loc[row_indexer,col_indexer] = value instead\n",
      "\n",
      "See the caveats in the documentation: http://pandas.pydata.org/pandas-docs/stable/user_guide/indexing.html#returning-a-view-versus-a-copy\n",
      "  This is separate from the ipykernel package so we can avoid doing imports until\n"
     ]
    }
   ],
   "source": [
    "dates = pd.DatetimeIndex(data['Student.Message.Time'])\n",
    "data['DAY']=dates.weekday+1\n",
    "data['Month']=dates.month\n"
   ]
  },
  {
   "cell_type": "code",
   "execution_count": 6,
   "metadata": {},
   "outputs": [
    {
     "name": "stderr",
     "output_type": "stream",
     "text": [
      "C:\\Users\\ADMIN\\Anaconda3\\lib\\site-packages\\ipykernel_launcher.py:3: SettingWithCopyWarning: \n",
      "A value is trying to be set on a copy of a slice from a DataFrame.\n",
      "Try using .loc[row_indexer,col_indexer] = value instead\n",
      "\n",
      "See the caveats in the documentation: http://pandas.pydata.org/pandas-docs/stable/user_guide/indexing.html#returning-a-view-versus-a-copy\n",
      "  This is separate from the ipykernel package so we can avoid doing imports until\n"
     ]
    }
   ],
   "source": [
    "#convert the TIMELINESS TO SECONDS\n",
    "\n",
    "data['Timeliness_second']=data['Timeliness'].astype('timedelta64[s]')"
   ]
  },
  {
   "cell_type": "code",
   "execution_count": 7,
   "metadata": {},
   "outputs": [
    {
     "data": {
      "text/html": [
       "<div>\n",
       "<style scoped>\n",
       "    .dataframe tbody tr th:only-of-type {\n",
       "        vertical-align: middle;\n",
       "    }\n",
       "\n",
       "    .dataframe tbody tr th {\n",
       "        vertical-align: top;\n",
       "    }\n",
       "\n",
       "    .dataframe thead th {\n",
       "        text-align: right;\n",
       "    }\n",
       "</style>\n",
       "<table border=\"1\" class=\"dataframe\">\n",
       "  <thead>\n",
       "    <tr style=\"text-align: right;\">\n",
       "      <th></th>\n",
       "      <th>Month</th>\n",
       "      <th>Timeliness_second</th>\n",
       "    </tr>\n",
       "  </thead>\n",
       "  <tbody>\n",
       "    <tr>\n",
       "      <td>0</td>\n",
       "      <td>1</td>\n",
       "      <td>124298.284906</td>\n",
       "    </tr>\n",
       "    <tr>\n",
       "      <td>1</td>\n",
       "      <td>2</td>\n",
       "      <td>110059.711950</td>\n",
       "    </tr>\n",
       "    <tr>\n",
       "      <td>2</td>\n",
       "      <td>3</td>\n",
       "      <td>122309.532263</td>\n",
       "    </tr>\n",
       "    <tr>\n",
       "      <td>3</td>\n",
       "      <td>4</td>\n",
       "      <td>121289.219897</td>\n",
       "    </tr>\n",
       "    <tr>\n",
       "      <td>4</td>\n",
       "      <td>5</td>\n",
       "      <td>102184.654901</td>\n",
       "    </tr>\n",
       "    <tr>\n",
       "      <td>5</td>\n",
       "      <td>6</td>\n",
       "      <td>103503.341071</td>\n",
       "    </tr>\n",
       "    <tr>\n",
       "      <td>6</td>\n",
       "      <td>7</td>\n",
       "      <td>108074.340541</td>\n",
       "    </tr>\n",
       "    <tr>\n",
       "      <td>7</td>\n",
       "      <td>8</td>\n",
       "      <td>93541.186862</td>\n",
       "    </tr>\n",
       "    <tr>\n",
       "      <td>8</td>\n",
       "      <td>9</td>\n",
       "      <td>74840.527741</td>\n",
       "    </tr>\n",
       "    <tr>\n",
       "      <td>9</td>\n",
       "      <td>10</td>\n",
       "      <td>42712.308875</td>\n",
       "    </tr>\n",
       "  </tbody>\n",
       "</table>\n",
       "</div>"
      ],
      "text/plain": [
       "   Month  Timeliness_second\n",
       "0      1      124298.284906\n",
       "1      2      110059.711950\n",
       "2      3      122309.532263\n",
       "3      4      121289.219897\n",
       "4      5      102184.654901\n",
       "5      6      103503.341071\n",
       "6      7      108074.340541\n",
       "7      8       93541.186862\n",
       "8      9       74840.527741\n",
       "9     10       42712.308875"
      ]
     },
     "execution_count": 7,
     "metadata": {},
     "output_type": "execute_result"
    }
   ],
   "source": [
    "data.groupby('Month', as_index=False)['Timeliness_second'].mean()"
   ]
  },
  {
   "cell_type": "code",
   "execution_count": 8,
   "metadata": {},
   "outputs": [
    {
     "data": {
      "text/html": [
       "<div>\n",
       "<style scoped>\n",
       "    .dataframe tbody tr th:only-of-type {\n",
       "        vertical-align: middle;\n",
       "    }\n",
       "\n",
       "    .dataframe tbody tr th {\n",
       "        vertical-align: top;\n",
       "    }\n",
       "\n",
       "    .dataframe thead th {\n",
       "        text-align: right;\n",
       "    }\n",
       "</style>\n",
       "<table border=\"1\" class=\"dataframe\">\n",
       "  <thead>\n",
       "    <tr style=\"text-align: right;\">\n",
       "      <th></th>\n",
       "      <th>DAY</th>\n",
       "      <th>Timeliness_second</th>\n",
       "    </tr>\n",
       "  </thead>\n",
       "  <tbody>\n",
       "    <tr>\n",
       "      <td>0</td>\n",
       "      <td>1</td>\n",
       "      <td>89524.595603</td>\n",
       "    </tr>\n",
       "    <tr>\n",
       "      <td>1</td>\n",
       "      <td>2</td>\n",
       "      <td>88724.264251</td>\n",
       "    </tr>\n",
       "    <tr>\n",
       "      <td>2</td>\n",
       "      <td>3</td>\n",
       "      <td>91250.936453</td>\n",
       "    </tr>\n",
       "    <tr>\n",
       "      <td>3</td>\n",
       "      <td>4</td>\n",
       "      <td>114478.311527</td>\n",
       "    </tr>\n",
       "    <tr>\n",
       "      <td>4</td>\n",
       "      <td>5</td>\n",
       "      <td>125970.631517</td>\n",
       "    </tr>\n",
       "    <tr>\n",
       "      <td>5</td>\n",
       "      <td>6</td>\n",
       "      <td>123977.425131</td>\n",
       "    </tr>\n",
       "    <tr>\n",
       "      <td>6</td>\n",
       "      <td>7</td>\n",
       "      <td>91003.426705</td>\n",
       "    </tr>\n",
       "  </tbody>\n",
       "</table>\n",
       "</div>"
      ],
      "text/plain": [
       "   DAY  Timeliness_second\n",
       "0    1       89524.595603\n",
       "1    2       88724.264251\n",
       "2    3       91250.936453\n",
       "3    4      114478.311527\n",
       "4    5      125970.631517\n",
       "5    6      123977.425131\n",
       "6    7       91003.426705"
      ]
     },
     "execution_count": 8,
     "metadata": {},
     "output_type": "execute_result"
    }
   ],
   "source": [
    "data.groupby('DAY', as_index=False)['Timeliness_second'].mean()"
   ]
  },
  {
   "cell_type": "code",
   "execution_count": 9,
   "metadata": {},
   "outputs": [],
   "source": [
    "#data_out['Timeliness_second'>1728000]\n",
    "databad=data[(data['Timeliness_second'] >1728000)]\n"
   ]
  },
  {
   "cell_type": "code",
   "execution_count": 10,
   "metadata": {},
   "outputs": [
    {
     "data": {
      "text/html": [
       "<div>\n",
       "<style scoped>\n",
       "    .dataframe tbody tr th:only-of-type {\n",
       "        vertical-align: middle;\n",
       "    }\n",
       "\n",
       "    .dataframe tbody tr th {\n",
       "        vertical-align: top;\n",
       "    }\n",
       "\n",
       "    .dataframe thead th {\n",
       "        text-align: right;\n",
       "    }\n",
       "</style>\n",
       "<table border=\"1\" class=\"dataframe\">\n",
       "  <thead>\n",
       "    <tr style=\"text-align: right;\">\n",
       "      <th></th>\n",
       "      <th>College.Name</th>\n",
       "      <th>School.Name</th>\n",
       "      <th>Timeliness</th>\n",
       "      <th>DAY</th>\n",
       "      <th>Month</th>\n",
       "    </tr>\n",
       "  </thead>\n",
       "  <tbody>\n",
       "    <tr>\n",
       "      <td>5021</td>\n",
       "      <td>C-BUS</td>\n",
       "      <td>Management</td>\n",
       "      <td>175 days 09:59:20</td>\n",
       "      <td>6</td>\n",
       "      <td>3</td>\n",
       "    </tr>\n",
       "    <tr>\n",
       "      <td>5020</td>\n",
       "      <td>C-BUS</td>\n",
       "      <td>Management</td>\n",
       "      <td>174 days 22:55:41</td>\n",
       "      <td>6</td>\n",
       "      <td>3</td>\n",
       "    </tr>\n",
       "    <tr>\n",
       "      <td>16074</td>\n",
       "      <td>B-DSC</td>\n",
       "      <td>Media &amp; Communication</td>\n",
       "      <td>165 days 09:26:35</td>\n",
       "      <td>3</td>\n",
       "      <td>4</td>\n",
       "    </tr>\n",
       "    <tr>\n",
       "      <td>3301</td>\n",
       "      <td>Z-TRN</td>\n",
       "      <td>Training</td>\n",
       "      <td>164 days 06:35:27</td>\n",
       "      <td>1</td>\n",
       "      <td>3</td>\n",
       "    </tr>\n",
       "    <tr>\n",
       "      <td>5278</td>\n",
       "      <td>Z-TRN</td>\n",
       "      <td>Training</td>\n",
       "      <td>157 days 04:30:04</td>\n",
       "      <td>1</td>\n",
       "      <td>3</td>\n",
       "    </tr>\n",
       "    <tr>\n",
       "      <td>5312</td>\n",
       "      <td>Z-TRN</td>\n",
       "      <td>Training</td>\n",
       "      <td>157 days 03:35:39</td>\n",
       "      <td>1</td>\n",
       "      <td>3</td>\n",
       "    </tr>\n",
       "    <tr>\n",
       "      <td>21979</td>\n",
       "      <td>Z-TRN</td>\n",
       "      <td>Training</td>\n",
       "      <td>149 days 02:44:05</td>\n",
       "      <td>3</td>\n",
       "      <td>5</td>\n",
       "    </tr>\n",
       "    <tr>\n",
       "      <td>9274</td>\n",
       "      <td>B-DSC</td>\n",
       "      <td>Fashion &amp; Textiles</td>\n",
       "      <td>143 days 19:52:37</td>\n",
       "      <td>6</td>\n",
       "      <td>3</td>\n",
       "    </tr>\n",
       "    <tr>\n",
       "      <td>4525</td>\n",
       "      <td>A-SEH</td>\n",
       "      <td>Health &amp; Biomedical Sciences</td>\n",
       "      <td>143 days 14:24:58</td>\n",
       "      <td>4</td>\n",
       "      <td>3</td>\n",
       "    </tr>\n",
       "    <tr>\n",
       "      <td>19884</td>\n",
       "      <td>C-BUS</td>\n",
       "      <td>Management</td>\n",
       "      <td>130 days 01:46:19</td>\n",
       "      <td>2</td>\n",
       "      <td>4</td>\n",
       "    </tr>\n",
       "    <tr>\n",
       "      <td>9354</td>\n",
       "      <td>B-DSC</td>\n",
       "      <td>Media &amp; Communication</td>\n",
       "      <td>128 days 09:15:13</td>\n",
       "      <td>7</td>\n",
       "      <td>3</td>\n",
       "    </tr>\n",
       "    <tr>\n",
       "      <td>29884</td>\n",
       "      <td>C-BUS</td>\n",
       "      <td>Management</td>\n",
       "      <td>119 days 08:38:23</td>\n",
       "      <td>7</td>\n",
       "      <td>5</td>\n",
       "    </tr>\n",
       "    <tr>\n",
       "      <td>30176</td>\n",
       "      <td>C-BUS</td>\n",
       "      <td>Management</td>\n",
       "      <td>118 days 18:54:34</td>\n",
       "      <td>1</td>\n",
       "      <td>5</td>\n",
       "    </tr>\n",
       "    <tr>\n",
       "      <td>16333</td>\n",
       "      <td>B-DSC</td>\n",
       "      <td>Media &amp; Communication</td>\n",
       "      <td>117 days 21:08:19</td>\n",
       "      <td>4</td>\n",
       "      <td>4</td>\n",
       "    </tr>\n",
       "    <tr>\n",
       "      <td>2211</td>\n",
       "      <td>Z-TRN</td>\n",
       "      <td>Training</td>\n",
       "      <td>107 days 02:44:48</td>\n",
       "      <td>1</td>\n",
       "      <td>2</td>\n",
       "    </tr>\n",
       "    <tr>\n",
       "      <td>23910</td>\n",
       "      <td>B-DSC</td>\n",
       "      <td>Art</td>\n",
       "      <td>100 days 23:46:55</td>\n",
       "      <td>2</td>\n",
       "      <td>5</td>\n",
       "    </tr>\n",
       "    <tr>\n",
       "      <td>2105</td>\n",
       "      <td>B-DSC</td>\n",
       "      <td>Education</td>\n",
       "      <td>100 days 19:03:41</td>\n",
       "      <td>1</td>\n",
       "      <td>2</td>\n",
       "    </tr>\n",
       "    <tr>\n",
       "      <td>414</td>\n",
       "      <td>C-BUS</td>\n",
       "      <td>Economics, Finance &amp; Marketing</td>\n",
       "      <td>98 days 22:13:10</td>\n",
       "      <td>1</td>\n",
       "      <td>1</td>\n",
       "    </tr>\n",
       "    <tr>\n",
       "      <td>5661</td>\n",
       "      <td>A-SEH</td>\n",
       "      <td>Voc Eng, Health &amp; Sciences</td>\n",
       "      <td>96 days 23:03:54</td>\n",
       "      <td>2</td>\n",
       "      <td>3</td>\n",
       "    </tr>\n",
       "    <tr>\n",
       "      <td>2165</td>\n",
       "      <td>B-DSC</td>\n",
       "      <td>VE Education</td>\n",
       "      <td>87 days 23:59:22</td>\n",
       "      <td>1</td>\n",
       "      <td>2</td>\n",
       "    </tr>\n",
       "  </tbody>\n",
       "</table>\n",
       "</div>"
      ],
      "text/plain": [
       "      College.Name                     School.Name        Timeliness  DAY  \\\n",
       "5021         C-BUS                      Management 175 days 09:59:20    6   \n",
       "5020         C-BUS                      Management 174 days 22:55:41    6   \n",
       "16074        B-DSC           Media & Communication 165 days 09:26:35    3   \n",
       "3301         Z-TRN                        Training 164 days 06:35:27    1   \n",
       "5278         Z-TRN                        Training 157 days 04:30:04    1   \n",
       "5312         Z-TRN                        Training 157 days 03:35:39    1   \n",
       "21979        Z-TRN                        Training 149 days 02:44:05    3   \n",
       "9274         B-DSC              Fashion & Textiles 143 days 19:52:37    6   \n",
       "4525         A-SEH    Health & Biomedical Sciences 143 days 14:24:58    4   \n",
       "19884        C-BUS                      Management 130 days 01:46:19    2   \n",
       "9354         B-DSC           Media & Communication 128 days 09:15:13    7   \n",
       "29884        C-BUS                      Management 119 days 08:38:23    7   \n",
       "30176        C-BUS                      Management 118 days 18:54:34    1   \n",
       "16333        B-DSC           Media & Communication 117 days 21:08:19    4   \n",
       "2211         Z-TRN                        Training 107 days 02:44:48    1   \n",
       "23910        B-DSC                             Art 100 days 23:46:55    2   \n",
       "2105         B-DSC                       Education 100 days 19:03:41    1   \n",
       "414          C-BUS  Economics, Finance & Marketing  98 days 22:13:10    1   \n",
       "5661         A-SEH      Voc Eng, Health & Sciences  96 days 23:03:54    2   \n",
       "2165         B-DSC                    VE Education  87 days 23:59:22    1   \n",
       "\n",
       "       Month  \n",
       "5021       3  \n",
       "5020       3  \n",
       "16074      4  \n",
       "3301       3  \n",
       "5278       3  \n",
       "5312       3  \n",
       "21979      5  \n",
       "9274       3  \n",
       "4525       3  \n",
       "19884      4  \n",
       "9354       3  \n",
       "29884      5  \n",
       "30176      5  \n",
       "16333      4  \n",
       "2211       2  \n",
       "23910      5  \n",
       "2105       2  \n",
       "414        1  \n",
       "5661       3  \n",
       "2165       2  "
      ]
     },
     "execution_count": 10,
     "metadata": {},
     "output_type": "execute_result"
    }
   ],
   "source": [
    "databad\n",
    "x=databad.nlargest(20, 'Timeliness')\n",
    "x[['College.Name','School.Name','Timeliness','DAY','Month']]"
   ]
  },
  {
   "cell_type": "code",
   "execution_count": 20,
   "metadata": {},
   "outputs": [
    {
     "name": "stderr",
     "output_type": "stream",
     "text": [
      "C:\\Users\\ADMIN\\Anaconda3\\lib\\site-packages\\ipykernel_launcher.py:5: SettingWithCopyWarning: \n",
      "A value is trying to be set on a copy of a slice from a DataFrame.\n",
      "Try using .loc[row_indexer,col_indexer] = value instead\n",
      "\n",
      "See the caveats in the documentation: http://pandas.pydata.org/pandas-docs/stable/user_guide/indexing.html#returning-a-view-versus-a-copy\n",
      "  \"\"\"\n"
     ]
    }
   ],
   "source": [
    "#Binning the timeliness\n",
    "#Change timeliness into categorical variableTimelinessBin\n",
    "cut_labels_6 = ['<day','>1day']\n",
    "cut_bins = [0,86400,170577]\n",
    "data['TimelinessBin'] = pd.cut(data['Timeliness_second'], bins=cut_bins, labels=cut_labels_6)"
   ]
  },
  {
   "cell_type": "code",
   "execution_count": 21,
   "metadata": {},
   "outputs": [
    {
     "data": {
      "text/plain": [
       "<function matplotlib.pyplot.show(*args, **kw)>"
      ]
     },
     "execution_count": 21,
     "metadata": {},
     "output_type": "execute_result"
    },
    {
     "data": {
      "image/png": "[encoded data removed]",
      "text/plain": [
       "<Figure size 720x720 with 1 Axes>"
      ]
     },
     "metadata": {
      "needs_background": "light"
     },
     "output_type": "display_data"
    }
   ],
   "source": [
    "#Display percentage of timeliness across college\n",
    "plt.figure(figsize=(10, 10))\n",
    "timeliness_counts = (data.groupby(['TimelinessBin'])['DAY']\n",
    "                     .value_counts(normalize=True)\n",
    "                     .rename('percentage')\n",
    "                     .mul(100)\n",
    "                     .reset_index()\n",
    "                     .sort_values('TimelinessBin'))\n",
    "p = sns.barplot(x=\"DAY\", y=\"percentage\", hue=\"TimelinessBin\", data=timeliness_counts,palette=\"pastel\", edgecolor=\".4\")\n",
    "_ = plt.setp(p.get_xticklabels(), rotation=90)  # Rotate labels\n",
    "plt.title(\"Percentage distribution of Timeliness Across day\")\n",
    "plt.ylabel(\"Percentage of Timeliness\")\n",
    "plt.show"
   ]
  },
  {
   "cell_type": "code",
   "execution_count": 22,
   "metadata": {},
   "outputs": [
    {
     "data": {
      "text/plain": [
       "<function matplotlib.pyplot.show(*args, **kw)>"
      ]
     },
     "execution_count": 22,
     "metadata": {},
     "output_type": "execute_result"
    },
    {
     "data": {
      "image/png": "[encoded data removed]",
      "text/plain": [
       "<Figure size 720x720 with 1 Axes>"
      ]
     },
     "metadata": {
      "needs_background": "light"
     },
     "output_type": "display_data"
    }
   ],
   "source": [
    "#Display percentage of timeliness across college\n",
    "plt.figure(figsize=(10, 10))\n",
    "timeliness_counts = (data.groupby(['TimelinessBin'])['Month']\n",
    "                     .value_counts(normalize=True)\n",
    "                     .rename('percentage')\n",
    "                     .mul(100)\n",
    "                     .reset_index()\n",
    "                     .sort_values('TimelinessBin'))\n",
    "p = sns.barplot(x=\"Month\", y=\"percentage\", hue=\"TimelinessBin\", data=timeliness_counts,palette=\"pastel\", edgecolor=\".4\")\n",
    "_ = plt.setp(p.get_xticklabels(), rotation=90)  # Rotate labels\n",
    "plt.title(\"Percentage distribution of Timeliness Across Month\")\n",
    "plt.ylabel(\"Percentage of Timeliness\")\n",
    "plt.show"
   ]
  },
  {
   "cell_type": "code",
   "execution_count": null,
   "metadata": {},
   "outputs": [],
   "source": []
  }
 ],
 "metadata": {
  "kernelspec": {
   "display_name": "Python 3",
   "language": "python",
   "name": "python3"
  },
  "language_info": {
   "codemirror_mode": {
    "name": "ipython",
    "version": 3
   },
   "file_extension": ".py",
   "mimetype": "text/x-python",
   "name": "python",
   "nbconvert_exporter": "python",
   "pygments_lexer": "ipython3",
   "version": "3.7.4"
  }
 },
 "nbformat": 4,
 "nbformat_minor": 2
}
