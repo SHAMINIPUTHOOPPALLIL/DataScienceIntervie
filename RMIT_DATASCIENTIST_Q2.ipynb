{
 "cells": [
  {
   "cell_type": "code",
   "execution_count": 1,
   "metadata": {},
   "outputs": [],
   "source": [
    "#Import the libraries\n",
    "import pandas as pd\n",
    "import numpy as np\n",
    "import seaborn as sns\n",
    "import matplotlib.pyplot as plt\n",
    "from scipy import stats\n",
    "import scipy\n",
    "import chart_studio.plotly as py\n",
    "import plotly.graph_objects as go\n",
    "from plotly import figure_factory as FF\n",
    "import chart_studio\n",
    "chart_studio.tools.set_credentials_file(username='shami_rmit', api_key='B3hxf6DD3iHY0bXH4TT0')"
   ]
  },
  {
   "cell_type": "code",
   "execution_count": 2,
   "metadata": {},
   "outputs": [
    {
     "data": {
      "text/html": [
       "<div>\n",
       "<style scoped>\n",
       "    .dataframe tbody tr th:only-of-type {\n",
       "        vertical-align: middle;\n",
       "    }\n",
       "\n",
       "    .dataframe tbody tr th {\n",
       "        vertical-align: top;\n",
       "    }\n",
       "\n",
       "    .dataframe thead th {\n",
       "        text-align: right;\n",
       "    }\n",
       "</style>\n",
       "<table border=\"1\" class=\"dataframe\">\n",
       "  <thead>\n",
       "    <tr style=\"text-align: right;\">\n",
       "      <th></th>\n",
       "      <th>Student.ID</th>\n",
       "      <th>Teacher.ID</th>\n",
       "      <th>College.Name</th>\n",
       "      <th>School.Name</th>\n",
       "      <th>Student.Message.Time</th>\n",
       "      <th>Teacher.Response.Time</th>\n",
       "    </tr>\n",
       "  </thead>\n",
       "  <tbody>\n",
       "    <tr>\n",
       "      <td>0</td>\n",
       "      <td>*655EE4254CD6751292CEB436540F99EEDD7CF3C3</td>\n",
       "      <td>*1C06EF8D2A0EA85EE88F9A2CD2185BF0A0E85A9E</td>\n",
       "      <td>NaN</td>\n",
       "      <td>NaN</td>\n",
       "      <td>2018-12-26 13:42:58</td>\n",
       "      <td>2019-01-02 08:06:11</td>\n",
       "    </tr>\n",
       "    <tr>\n",
       "      <td>1</td>\n",
       "      <td>*A852E7F5D89AA564AF4DA87FE95D9947A3967CEC</td>\n",
       "      <td>*1267BF7A2516009C89642925A67CCA0EE89777A0</td>\n",
       "      <td>C-BUS</td>\n",
       "      <td>Business IT &amp; Logistics</td>\n",
       "      <td>2019-01-01 10:05:35</td>\n",
       "      <td>2019-01-01 11:07:08</td>\n",
       "    </tr>\n",
       "    <tr>\n",
       "      <td>2</td>\n",
       "      <td>*D02DA5003C7D760F169B58CDF9B94956C6317FCE</td>\n",
       "      <td>*1267BF7A2516009C89642925A67CCA0EE89777A0</td>\n",
       "      <td>C-BUS</td>\n",
       "      <td>Business IT &amp; Logistics</td>\n",
       "      <td>2019-01-01 10:07:16</td>\n",
       "      <td>2019-01-01 11:10:31</td>\n",
       "    </tr>\n",
       "    <tr>\n",
       "      <td>3</td>\n",
       "      <td>*A4A1C43AC047FD6DE7833944F43ABDF9C9D2AAC2</td>\n",
       "      <td>*1267BF7A2516009C89642925A67CCA0EE89777A0</td>\n",
       "      <td>C-BUS</td>\n",
       "      <td>Business IT &amp; Logistics</td>\n",
       "      <td>2019-01-01 23:43:32</td>\n",
       "      <td>2019-01-02 00:48:09</td>\n",
       "    </tr>\n",
       "    <tr>\n",
       "      <td>4</td>\n",
       "      <td>*E7050ECAA958D2CD2763EE483E16FD9140D49E97</td>\n",
       "      <td>*BD13E5C24441890B281DB9F75A747D9673210ACD</td>\n",
       "      <td>C-BUS</td>\n",
       "      <td>Management</td>\n",
       "      <td>2019-01-02 03:41:35</td>\n",
       "      <td>2019-01-03 01:16:52</td>\n",
       "    </tr>\n",
       "  </tbody>\n",
       "</table>\n",
       "</div>"
      ],
      "text/plain": [
       "                                  Student.ID  \\\n",
       "0  *655EE4254CD6751292CEB436540F99EEDD7CF3C3   \n",
       "1  *A852E7F5D89AA564AF4DA87FE95D9947A3967CEC   \n",
       "2  *D02DA5003C7D760F169B58CDF9B94956C6317FCE   \n",
       "3  *A4A1C43AC047FD6DE7833944F43ABDF9C9D2AAC2   \n",
       "4  *E7050ECAA958D2CD2763EE483E16FD9140D49E97   \n",
       "\n",
       "                                  Teacher.ID College.Name  \\\n",
       "0  *1C06EF8D2A0EA85EE88F9A2CD2185BF0A0E85A9E          NaN   \n",
       "1  *1267BF7A2516009C89642925A67CCA0EE89777A0        C-BUS   \n",
       "2  *1267BF7A2516009C89642925A67CCA0EE89777A0        C-BUS   \n",
       "3  *1267BF7A2516009C89642925A67CCA0EE89777A0        C-BUS   \n",
       "4  *BD13E5C24441890B281DB9F75A747D9673210ACD        C-BUS   \n",
       "\n",
       "               School.Name Student.Message.Time Teacher.Response.Time  \n",
       "0                      NaN  2018-12-26 13:42:58   2019-01-02 08:06:11  \n",
       "1  Business IT & Logistics  2019-01-01 10:05:35   2019-01-01 11:07:08  \n",
       "2  Business IT & Logistics  2019-01-01 10:07:16   2019-01-01 11:10:31  \n",
       "3  Business IT & Logistics  2019-01-01 23:43:32   2019-01-02 00:48:09  \n",
       "4               Management  2019-01-02 03:41:35   2019-01-03 01:16:52  "
      ]
     },
     "execution_count": 2,
     "metadata": {},
     "output_type": "execute_result"
    }
   ],
   "source": [
    "#Read the file\n",
    "xlsx = pd.ExcelFile('Dataset.xlsx')\n",
    "\n",
    "#read the data from local directory\n",
    "data = pd.read_excel(xlsx, 'Dataset')\n",
    "Originaldataset=data\n",
    "\n",
    "#view data sample\n",
    "data.head()"
   ]
  },
  {
   "cell_type": "code",
   "execution_count": 3,
   "metadata": {},
   "outputs": [],
   "source": [
    "#extracting information related to College of Business\n",
    "\n",
    "#extracting data related to college of Business\n",
    "data = data[data['College.Name']=='C-BUS']\n",
    "\n",
    "#Extracting data by specified date range and save it in two files\n",
    "\n",
    "dataspan2=data[(data['Student.Message.Time'] >= '2019-07-22') &\n",
    "          (data['Student.Message.Time'] <= '2019-10-13')]"
   ]
  },
  {
   "cell_type": "code",
   "execution_count": 4,
   "metadata": {},
   "outputs": [],
   "source": [
    "#extracting information related to College of Business\n",
    "\n",
    "#extracting data related to college of Business\n",
    "data = data[data['College.Name']=='C-BUS']\n",
    "\n",
    "#Extracting data by specified date range and save it in two files\n",
    "\n",
    "#The first span was not 12 weeks,sochanged the question to 12 weeks starting from March 04\n",
    "#for two sample t test\n",
    "\n",
    "dataspan1=data[(data['Student.Message.Time'] >= '2019-03-04') &\n",
    "          (data['Student.Message.Time'] <= '2019-05-27')]\n",
    "\n",
    "dataspan2=data[(data['Student.Message.Time'] >= '2019-07-22') &\n",
    "          (data['Student.Message.Time'] <= '2019-10-13')]\n",
    "\n",
    "#Below is the original time span given in the question\n",
    "dataspan3=data[(data['Student.Message.Time'] >= '2019-03-06') &\n",
    "          (data['Student.Message.Time'] <= '2019-06-23')]"
   ]
  },
  {
   "cell_type": "code",
   "execution_count": 5,
   "metadata": {},
   "outputs": [
    {
     "data": {
      "text/plain": [
       "Student.ID                       object\n",
       "Teacher.ID                       object\n",
       "College.Name                     object\n",
       "School.Name                      object\n",
       "Student.Message.Time     datetime64[ns]\n",
       "Teacher.Response.Time    datetime64[ns]\n",
       "dtype: object"
      ]
     },
     "execution_count": 5,
     "metadata": {},
     "output_type": "execute_result"
    }
   ],
   "source": [
    "#check the datatypes\n",
    "data.dtypes"
   ]
  },
  {
   "cell_type": "code",
   "execution_count": 6,
   "metadata": {},
   "outputs": [],
   "source": [
    "#create the column Timeliness to the original data set 1\n",
    "dataspan1['Timeliness']=dataspan1['Teacher.Response.Time']-dataspan1['Student.Message.Time']\n",
    "\n",
    "#create the column Timeliness to the original data set 2\n",
    "dataspan2['Timeliness']=dataspan2['Teacher.Response.Time']-dataspan2['Student.Message.Time']\n",
    "\n",
    "#create the column Timeliness to the original data set 2\n",
    "dataspan3['Timeliness']=dataspan3['Teacher.Response.Time']-dataspan3['Student.Message.Time']\n",
    "\n"
   ]
  },
  {
   "cell_type": "code",
   "execution_count": 7,
   "metadata": {},
   "outputs": [
    {
     "name": "stdout",
     "output_type": "stream",
     "text": [
      "(7237, 7)\n",
      "(7321, 7)\n"
     ]
    }
   ],
   "source": [
    "#check the shape\n",
    "print(dataspan1.shape)\n",
    "print(dataspan2.shape)\n"
   ]
  },
  {
   "cell_type": "code",
   "execution_count": 8,
   "metadata": {},
   "outputs": [],
   "source": [
    "#Convertthe timeliness column into second for better data exploration \n",
    "dataspan1['Timeliness_second']=dataspan1['Timeliness'].astype('timedelta64[s]')\n",
    "dataspan2['Timeliness_second']=dataspan2['Timeliness'].astype('timedelta64[s]')\n",
    "dataspan3['Timeliness_second']=dataspan3['Timeliness'].astype('timedelta64[s]')\n"
   ]
  },
  {
   "cell_type": "code",
   "execution_count": 9,
   "metadata": {},
   "outputs": [],
   "source": [
    "#Take weekly mean of timeliness across dataset1 and dataset 2 -week end with sunday\n",
    "df1 = dataspan1.set_index('Student.Message.Time').resample('W').Timeliness_second.mean()\n",
    "df2 = dataspan2.set_index('Student.Message.Time').resample('W').Timeliness_second.mean()\n",
    "df3 = dataspan3.set_index('Student.Message.Time').resample('W').Timeliness_second.mean()"
   ]
  },
  {
   "cell_type": "code",
   "execution_count": 10,
   "metadata": {},
   "outputs": [
    {
     "name": "stdout",
     "output_type": "stream",
     "text": [
      "(12,)\n",
      "(12,)\n",
      "(16,)\n"
     ]
    }
   ],
   "source": [
    "print(df1.shape)\n",
    "print(df2.shape)\n",
    "\n",
    "print(df3.shape)\n",
    "#fIRST LIFE SPAN IS NOT 12 WEEKS AS PER THE QUESTION, ITS 16 WEEKS"
   ]
  },
  {
   "cell_type": "code",
   "execution_count": 11,
   "metadata": {},
   "outputs": [
    {
     "data": {
      "text/plain": [
       "Student.Message.Time\n",
       "2019-03-10    127972.271984\n",
       "2019-03-17     93998.606529\n",
       "2019-03-24     85454.011725\n",
       "2019-03-31     83734.691718\n",
       "2019-04-07     96170.040293\n",
       "2019-04-14     70993.127907\n",
       "2019-04-21    128405.036269\n",
       "2019-04-28    124106.616842\n",
       "2019-05-05     88100.828990\n",
       "2019-05-12     86154.956848\n",
       "2019-05-19     80836.501946\n",
       "2019-05-26    103254.027915\n",
       "Freq: W-SUN, Name: Timeliness_second, dtype: float64"
      ]
     },
     "execution_count": 11,
     "metadata": {},
     "output_type": "execute_result"
    }
   ],
   "source": [
    "#dispaly  datast 1\n",
    "df1"
   ]
  },
  {
   "cell_type": "code",
   "execution_count": 12,
   "metadata": {},
   "outputs": [
    {
     "data": {
      "text/plain": [
       "Student.Message.Time\n",
       "2019-07-28    141607.553806\n",
       "2019-08-04     88375.519916\n",
       "2019-08-11     82349.240250\n",
       "2019-08-18     81824.985430\n",
       "2019-08-25     83993.589365\n",
       "2019-09-01     95419.292244\n",
       "2019-09-08     80418.936731\n",
       "2019-09-15     69027.355281\n",
       "2019-09-22     64916.093421\n",
       "2019-09-29     64654.708987\n",
       "2019-10-06     44028.337500\n",
       "2019-10-13     25998.267658\n",
       "Freq: W-SUN, Name: Timeliness_second, dtype: float64"
      ]
     },
     "execution_count": 12,
     "metadata": {},
     "output_type": "execute_result"
    }
   ],
   "source": [
    "#dispaly  datast 2\n",
    "df2"
   ]
  },
  {
   "cell_type": "code",
   "execution_count": 13,
   "metadata": {},
   "outputs": [
    {
     "data": {
      "text/plain": [
       "Student.Message.Time\n",
       "2019-03-10    161637.762346\n",
       "2019-03-17     93998.606529\n",
       "2019-03-24     85454.011725\n",
       "2019-03-31     83734.691718\n",
       "2019-04-07     96170.040293\n",
       "2019-04-14     70993.127907\n",
       "2019-04-21    128405.036269\n",
       "2019-04-28    124106.616842\n",
       "2019-05-05     88100.828990\n",
       "2019-05-12     86154.956848\n",
       "2019-05-19     80836.501946\n",
       "2019-05-26    103254.027915\n",
       "2019-06-02     82404.063248\n",
       "2019-06-09     75364.910959\n",
       "2019-06-16     93435.355932\n",
       "2019-06-23     82848.070423\n",
       "Freq: W-SUN, Name: Timeliness_second, dtype: float64"
      ]
     },
     "execution_count": 13,
     "metadata": {},
     "output_type": "execute_result"
    }
   ],
   "source": [
    "#dispaly  datast 2\n",
    "df3"
   ]
  },
  {
   "cell_type": "code",
   "execution_count": 14,
   "metadata": {},
   "outputs": [
    {
     "name": "stderr",
     "output_type": "stream",
     "text": [
      "C:\\Users\\ADMIN\\Anaconda3\\lib\\site-packages\\scipy\\stats\\stats.py:1713: FutureWarning:\n",
      "\n",
      "Using a non-tuple sequence for multidimensional indexing is deprecated; use `arr[tuple(seq)]` instead of `arr[seq]`. In the future this will be interpreted as an array index, `arr[np.array(seq)]`, which will result either in an error or a different result.\n",
      "\n"
     ]
    },
    {
     "data": {
      "text/plain": [
       "<matplotlib.axes._subplots.AxesSubplot at 0x8c5b462c8>"
      ]
     },
     "execution_count": 14,
     "metadata": {},
     "output_type": "execute_result"
    },
    {
     "data": {
      "image/png": "[encoded data removed]",
      "text/plain": [
       "<Figure size 432x288 with 1 Axes>"
      ]
     },
     "metadata": {
      "needs_background": "light"
     },
     "output_type": "display_data"
    }
   ],
   "source": [
    "#density plot of df1\n",
    "sns.distplot(df1)"
   ]
  },
  {
   "cell_type": "code",
   "execution_count": 15,
   "metadata": {},
   "outputs": [
    {
     "data": {
      "text/plain": [
       "<matplotlib.axes._subplots.AxesSubplot at 0x8c58c9488>"
      ]
     },
     "execution_count": 15,
     "metadata": {},
     "output_type": "execute_result"
    },
    {
     "data": {
      "image/png": "[encoded data removed]",
      "text/plain": [
       "<Figure size 432x288 with 1 Axes>"
      ]
     },
     "metadata": {
      "needs_background": "light"
     },
     "output_type": "display_data"
    }
   ],
   "source": [
    "#density plot of df1\n",
    "sns.distplot(df2)"
   ]
  },
  {
   "cell_type": "code",
   "execution_count": 16,
   "metadata": {},
   "outputs": [
    {
     "data": {
      "text/plain": [
       "LeveneResult(statistic=0.2830936752616008, pvalue=0.600013266608576)"
      ]
     },
     "execution_count": 16,
     "metadata": {},
     "output_type": "execute_result"
    }
   ],
   "source": [
    "stats.levene(df1,df2)"
   ]
  },
  {
   "cell_type": "code",
   "execution_count": 17,
   "metadata": {},
   "outputs": [
    {
     "data": {
      "text/plain": [
       "Ttest_indResult(statistic=2.0723791675547085, pvalue=0.05015139306935623)"
      ]
     },
     "execution_count": 17,
     "metadata": {},
     "output_type": "execute_result"
    }
   ],
   "source": [
    "stats.ttest_ind(df1,df2)"
   ]
  },
  {
   "cell_type": "code",
   "execution_count": 18,
   "metadata": {},
   "outputs": [],
   "source": [
    "#!pip install chart-studio"
   ]
  },
  {
   "cell_type": "code",
   "execution_count": 19,
   "metadata": {},
   "outputs": [
    {
     "data": {
      "text/html": [
       "\n",
       "        <iframe\n",
       "            width=\"100%\"\n",
       "            height=\"110px\"\n",
       "            src=\"https://plot.ly/~shami_rmit/41.embed\"\n",
       "            frameborder=\"0\"\n",
       "            allowfullscreen\n",
       "        ></iframe>\n",
       "        "
      ],
      "text/plain": [
       "<IPython.lib.display.IFrame at 0x8c8058308>"
      ]
     },
     "execution_count": 19,
     "metadata": {},
     "output_type": "execute_result"
    }
   ],
   "source": [
    "twosample_results = scipy.stats.ttest_ind(df1, df2)\n",
    "\n",
    "matrix_twosample = [\n",
    "    ['', 'Test Statistic', 'p-value'],\n",
    "    ['Sample Data', twosample_results[0], twosample_results[1]]\n",
    "]\n",
    "\n",
    "twosample_table = FF.create_table(matrix_twosample, index=True)\n",
    "py.iplot(twosample_table, filename='twosample-table')"
   ]
  },
  {
   "cell_type": "code",
   "execution_count": 20,
   "metadata": {},
   "outputs": [
    {
     "name": "stdout",
     "output_type": "stream",
     "text": [
      "week1 mean value: 97431.72658049034\n",
      "week2 mean value: 76884.49004909361\n",
      "week1 std value: 18642.70308235719\n",
      "week2 std value: 27088.49733842235\n",
      "p-value 0.05015139306935623\n",
      "we accept null hypothesis\n"
     ]
    }
   ],
   "source": [
    "#Two sample independant t test using scipy statas module\n",
    "from scipy.stats import ttest_ind\n",
    "import numpy as np\n",
    "week1_mean = np.mean(df1)\n",
    "week2_mean = np.mean(df2)\n",
    "print(\"week1 mean value:\",week1_mean)\n",
    "print(\"week2 mean value:\",week2_mean)\n",
    "week1_std = np.std(df1)\n",
    "week2_std = np.std(df2)\n",
    "print(\"week1 std value:\",week1_std)\n",
    "print(\"week2 std value:\",week2_std)\n",
    "ttest,pval = ttest_ind(df1,df2)\n",
    "print(\"p-value\",pval)\n",
    "if pval <0.05:\n",
    "  print(\"we reject null hypothesis\")\n",
    "else:\n",
    "  print(\"we accept null hypothesis\")"
   ]
  },
  {
   "cell_type": "code",
   "execution_count": 21,
   "metadata": {},
   "outputs": [
    {
     "data": {
      "text/html": [
       "<div>\n",
       "<style scoped>\n",
       "    .dataframe tbody tr th:only-of-type {\n",
       "        vertical-align: middle;\n",
       "    }\n",
       "\n",
       "    .dataframe tbody tr th {\n",
       "        vertical-align: top;\n",
       "    }\n",
       "\n",
       "    .dataframe thead th {\n",
       "        text-align: right;\n",
       "    }\n",
       "</style>\n",
       "<table border=\"1\" class=\"dataframe\">\n",
       "  <thead>\n",
       "    <tr style=\"text-align: right;\">\n",
       "      <th></th>\n",
       "      <th>Student.Message.Time</th>\n",
       "      <th>Timeliness_second</th>\n",
       "    </tr>\n",
       "  </thead>\n",
       "  <tbody>\n",
       "    <tr>\n",
       "      <td>0</td>\n",
       "      <td>2019-07-28</td>\n",
       "      <td>141607.553806</td>\n",
       "    </tr>\n",
       "    <tr>\n",
       "      <td>1</td>\n",
       "      <td>2019-08-04</td>\n",
       "      <td>88375.519916</td>\n",
       "    </tr>\n",
       "    <tr>\n",
       "      <td>2</td>\n",
       "      <td>2019-08-11</td>\n",
       "      <td>82349.240250</td>\n",
       "    </tr>\n",
       "    <tr>\n",
       "      <td>3</td>\n",
       "      <td>2019-08-18</td>\n",
       "      <td>81824.985430</td>\n",
       "    </tr>\n",
       "    <tr>\n",
       "      <td>4</td>\n",
       "      <td>2019-08-25</td>\n",
       "      <td>83993.589365</td>\n",
       "    </tr>\n",
       "    <tr>\n",
       "      <td>5</td>\n",
       "      <td>2019-09-01</td>\n",
       "      <td>95419.292244</td>\n",
       "    </tr>\n",
       "    <tr>\n",
       "      <td>6</td>\n",
       "      <td>2019-09-08</td>\n",
       "      <td>80418.936731</td>\n",
       "    </tr>\n",
       "    <tr>\n",
       "      <td>7</td>\n",
       "      <td>2019-09-15</td>\n",
       "      <td>69027.355281</td>\n",
       "    </tr>\n",
       "    <tr>\n",
       "      <td>8</td>\n",
       "      <td>2019-09-22</td>\n",
       "      <td>64916.093421</td>\n",
       "    </tr>\n",
       "    <tr>\n",
       "      <td>9</td>\n",
       "      <td>2019-09-29</td>\n",
       "      <td>64654.708987</td>\n",
       "    </tr>\n",
       "    <tr>\n",
       "      <td>10</td>\n",
       "      <td>2019-10-06</td>\n",
       "      <td>44028.337500</td>\n",
       "    </tr>\n",
       "    <tr>\n",
       "      <td>11</td>\n",
       "      <td>2019-10-13</td>\n",
       "      <td>25998.267658</td>\n",
       "    </tr>\n",
       "  </tbody>\n",
       "</table>\n",
       "</div>"
      ],
      "text/plain": [
       "   Student.Message.Time  Timeliness_second\n",
       "0            2019-07-28      141607.553806\n",
       "1            2019-08-04       88375.519916\n",
       "2            2019-08-11       82349.240250\n",
       "3            2019-08-18       81824.985430\n",
       "4            2019-08-25       83993.589365\n",
       "5            2019-09-01       95419.292244\n",
       "6            2019-09-08       80418.936731\n",
       "7            2019-09-15       69027.355281\n",
       "8            2019-09-22       64916.093421\n",
       "9            2019-09-29       64654.708987\n",
       "10           2019-10-06       44028.337500\n",
       "11           2019-10-13       25998.267658"
      ]
     },
     "execution_count": 21,
     "metadata": {},
     "output_type": "execute_result"
    }
   ],
   "source": [
    "#!pip install researchpy\n",
    "\n",
    "#convert into dataframe\n",
    "df1=pd.DataFrame(df1)\n",
    "df2=pd.DataFrame(df2)\n",
    "\n",
    "#remove index\n",
    "df1.reset_index()\n",
    "df2.reset_index()"
   ]
  },
  {
   "cell_type": "code",
   "execution_count": 22,
   "metadata": {},
   "outputs": [
    {
     "data": {
      "text/plain": [
       "LeveneResult(statistic=0.2830936752616008, pvalue=0.600013266608576)"
      ]
     },
     "execution_count": 22,
     "metadata": {},
     "output_type": "execute_result"
    }
   ],
   "source": [
    "#Homogeneity of variances\n",
    "stats.levene(df1['Timeliness_second'],df2['Timeliness_second'])\n",
    "\n",
    "#The test is not significant meaning there is homogeneity of variances and we can proceed."
   ]
  },
  {
   "cell_type": "code",
   "execution_count": 23,
   "metadata": {},
   "outputs": [
    {
     "data": {
      "text/html": [
       "<div>\n",
       "<style scoped>\n",
       "    .dataframe tbody tr th:only-of-type {\n",
       "        vertical-align: middle;\n",
       "    }\n",
       "\n",
       "    .dataframe tbody tr th {\n",
       "        vertical-align: top;\n",
       "    }\n",
       "\n",
       "    .dataframe thead th {\n",
       "        text-align: right;\n",
       "    }\n",
       "</style>\n",
       "<table border=\"1\" class=\"dataframe\">\n",
       "  <thead>\n",
       "    <tr style=\"text-align: right;\">\n",
       "      <th></th>\n",
       "      <th>Variable</th>\n",
       "      <th>N</th>\n",
       "      <th>Mean</th>\n",
       "      <th>SD</th>\n",
       "      <th>SE</th>\n",
       "      <th>95% Conf.</th>\n",
       "      <th>Interval</th>\n",
       "    </tr>\n",
       "  </thead>\n",
       "  <tbody>\n",
       "    <tr>\n",
       "      <td>0</td>\n",
       "      <td>Timeliness_second</td>\n",
       "      <td>12.0</td>\n",
       "      <td>97431.726580</td>\n",
       "      <td>19471.668320</td>\n",
       "      <td>5620.986473</td>\n",
       "      <td>85060.018769</td>\n",
       "      <td>109803.434392</td>\n",
       "    </tr>\n",
       "    <tr>\n",
       "      <td>1</td>\n",
       "      <td>Timeliness_second</td>\n",
       "      <td>12.0</td>\n",
       "      <td>76884.490049</td>\n",
       "      <td>28293.012720</td>\n",
       "      <td>8167.489255</td>\n",
       "      <td>58907.967403</td>\n",
       "      <td>94861.012695</td>\n",
       "    </tr>\n",
       "    <tr>\n",
       "      <td>2</td>\n",
       "      <td>combined</td>\n",
       "      <td>24.0</td>\n",
       "      <td>87158.108315</td>\n",
       "      <td>25967.520156</td>\n",
       "      <td>5300.597856</td>\n",
       "      <td>76192.986221</td>\n",
       "      <td>98123.230408</td>\n",
       "    </tr>\n",
       "  </tbody>\n",
       "</table>\n",
       "</div>"
      ],
      "text/plain": [
       "            Variable     N          Mean            SD           SE  \\\n",
       "0  Timeliness_second  12.0  97431.726580  19471.668320  5620.986473   \n",
       "1  Timeliness_second  12.0  76884.490049  28293.012720  8167.489255   \n",
       "2           combined  24.0  87158.108315  25967.520156  5300.597856   \n",
       "\n",
       "      95% Conf.       Interval  \n",
       "0  85060.018769  109803.434392  \n",
       "1  58907.967403   94861.012695  \n",
       "2  76192.986221   98123.230408  "
      ]
     },
     "execution_count": 23,
     "metadata": {},
     "output_type": "execute_result"
    }
   ],
   "source": [
    "#perform two sample t test\n",
    "import researchpy as rp\n",
    "descriptives, results = rp.ttest(df1['Timeliness_second'], df2['Timeliness_second'])\n",
    "\n",
    "descriptives"
   ]
  },
  {
   "cell_type": "code",
   "execution_count": 24,
   "metadata": {},
   "outputs": [
    {
     "data": {
      "text/html": [
       "<div>\n",
       "<style scoped>\n",
       "    .dataframe tbody tr th:only-of-type {\n",
       "        vertical-align: middle;\n",
       "    }\n",
       "\n",
       "    .dataframe tbody tr th {\n",
       "        vertical-align: top;\n",
       "    }\n",
       "\n",
       "    .dataframe thead th {\n",
       "        text-align: right;\n",
       "    }\n",
       "</style>\n",
       "<table border=\"1\" class=\"dataframe\">\n",
       "  <thead>\n",
       "    <tr style=\"text-align: right;\">\n",
       "      <th></th>\n",
       "      <th>Independent t-test</th>\n",
       "      <th>results</th>\n",
       "    </tr>\n",
       "  </thead>\n",
       "  <tbody>\n",
       "    <tr>\n",
       "      <td>0</td>\n",
       "      <td>Difference (Timeliness_second - Timeliness_sec...</td>\n",
       "      <td>20547.2365</td>\n",
       "    </tr>\n",
       "    <tr>\n",
       "      <td>1</td>\n",
       "      <td>Degrees of freedom =</td>\n",
       "      <td>22.0000</td>\n",
       "    </tr>\n",
       "    <tr>\n",
       "      <td>2</td>\n",
       "      <td>t =</td>\n",
       "      <td>2.0724</td>\n",
       "    </tr>\n",
       "    <tr>\n",
       "      <td>3</td>\n",
       "      <td>Two side test p value =</td>\n",
       "      <td>0.0502</td>\n",
       "    </tr>\n",
       "    <tr>\n",
       "      <td>4</td>\n",
       "      <td>Difference &gt; 0 p value =</td>\n",
       "      <td>0.9749</td>\n",
       "    </tr>\n",
       "    <tr>\n",
       "      <td>5</td>\n",
       "      <td>Difference &lt; 0 p value =</td>\n",
       "      <td>0.0251</td>\n",
       "    </tr>\n",
       "    <tr>\n",
       "      <td>6</td>\n",
       "      <td>Cohen's d =</td>\n",
       "      <td>0.8460</td>\n",
       "    </tr>\n",
       "    <tr>\n",
       "      <td>7</td>\n",
       "      <td>Hedge's g =</td>\n",
       "      <td>0.8169</td>\n",
       "    </tr>\n",
       "    <tr>\n",
       "      <td>8</td>\n",
       "      <td>Glass's delta =</td>\n",
       "      <td>1.0552</td>\n",
       "    </tr>\n",
       "    <tr>\n",
       "      <td>9</td>\n",
       "      <td>r =</td>\n",
       "      <td>0.4041</td>\n",
       "    </tr>\n",
       "  </tbody>\n",
       "</table>\n",
       "</div>"
      ],
      "text/plain": [
       "                                  Independent t-test     results\n",
       "0  Difference (Timeliness_second - Timeliness_sec...  20547.2365\n",
       "1                              Degrees of freedom =      22.0000\n",
       "2                                               t =       2.0724\n",
       "3                           Two side test p value =       0.0502\n",
       "4                          Difference > 0 p value =       0.9749\n",
       "5                          Difference < 0 p value =       0.0251\n",
       "6                                       Cohen's d =       0.8460\n",
       "7                                       Hedge's g =       0.8169\n",
       "8                                   Glass's delta =       1.0552\n",
       "9                                               r =       0.4041"
      ]
     },
     "execution_count": 24,
     "metadata": {},
     "output_type": "execute_result"
    }
   ],
   "source": [
    "#result of Two sample t test\n",
    "results"
   ]
  },
  {
   "cell_type": "code",
   "execution_count": null,
   "metadata": {},
   "outputs": [],
   "source": []
  }
 ],
 "metadata": {
  "kernelspec": {
   "display_name": "Python 3",
   "language": "python",
   "name": "python3"
  },
  "language_info": {
   "codemirror_mode": {
    "name": "ipython",
    "version": 3
   },
   "file_extension": ".py",
   "mimetype": "text/x-python",
   "name": "python",
   "nbconvert_exporter": "python",
   "pygments_lexer": "ipython3",
   "version": "3.7.4"
  }
 },
 "nbformat": 4,
 "nbformat_minor": 2
}
